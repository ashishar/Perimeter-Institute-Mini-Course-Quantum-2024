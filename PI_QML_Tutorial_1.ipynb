{
  "nbformat": 4,
  "nbformat_minor": 0,
  "metadata": {
    "colab": {
      "provenance": [],
      "include_colab_link": true
    },
    "kernelspec": {
      "name": "python3",
      "display_name": "Python 3"
    },
    "language_info": {
      "name": "python"
    }
  },
  "cells": [
    {
      "cell_type": "markdown",
      "metadata": {
        "id": "view-in-github",
        "colab_type": "text"
      },
      "source": [
        "<a href=\"https://colab.research.google.com/github/ashishar/qbook/blob/master/PI_QML_Tutorial_1.ipynb\" target=\"_parent\"><img src=\"https://colab.research.google.com/assets/colab-badge.svg\" alt=\"Open In Colab\"/></a>"
      ]
    },
    {
      "cell_type": "markdown",
      "source": [
        "# **Quantum Machine Learning - Tutorial 1**\n",
        "# **Quantum Circuits and Optimization**"
      ],
      "metadata": {
        "id": "_s6QigGgobUU"
      }
    },
    {
      "cell_type": "markdown",
      "source": [
        "**Please do not modify this notebook. To work on the tutorial, create your own copy by going to File > Save a Copy in Drive**"
      ],
      "metadata": {
        "id": "tDvWgQt_pFdj"
      }
    },
    {
      "cell_type": "markdown",
      "source": [
        "Before doing anything, please **run the following cell to install PennyLane.**"
      ],
      "metadata": {
        "id": "47p3MAtMpho1"
      }
    },
    {
      "cell_type": "code",
      "source": [
        "%%capture\n",
        "!pip install pennylane"
      ],
      "metadata": {
        "id": "l07OiY5PppLT",
        "collapsed": true
      },
      "execution_count": null,
      "outputs": []
    },
    {
      "cell_type": "markdown",
      "source": [
        "In this tutorial we will learn how to build quantum circuits in PennyLane and use them for various optimization tasks. You do not need to solve the entire tutorial in 1.5 hours. Choose the topics that you find will benefit your learning and interests the most.\n",
        "\n",
        "First, let's import PennyLane and some other libraries. **Run the cell below.**"
      ],
      "metadata": {
        "id": "bfVXxZp9o1wi"
      }
    },
    {
      "cell_type": "code",
      "source": [
        "import pennylane as qml\n",
        "from pennylane import numpy as np\n",
        "import random"
      ],
      "metadata": {
        "id": "o6oGpRIWb1lN"
      },
      "execution_count": null,
      "outputs": []
    },
    {
      "cell_type": "markdown",
      "source": [
        "## **1. Circuit building**"
      ],
      "metadata": {
        "id": "L129C6krsKZl"
      }
    },
    {
      "cell_type": "markdown",
      "source": [
        "### **A. Wax on, wax off**\n",
        "\n",
        "Let's warm up by building some quantum circuits using PennyLane. Build the following circuits using PennyLane and return the indicated output. Don't forget to define a device and decorate your circuit to make it a QNode!"
      ],
      "metadata": {
        "id": "wlxN_4vbsVya"
      }
    },
    {
      "cell_type": "markdown",
      "source": [
        "(i) Output: Computational basis measurement probabilities on the first wire.\n",
        "\n",
        "<p align=\"center\">\n",
        "  <img width=\"50%\" src=\"https://raw.githubusercontent.com/gmlejarza/Tutorials_Perimeter/main/images/circuit_building_1.png\" />\n",
        "</p>"
      ],
      "metadata": {
        "id": "GCaVyFMMVYmm"
      }
    },
    {
      "cell_type": "code",
      "source": [
        "dev = # Define the device\n",
        "\n",
        "# Decorate the QNode\n",
        "def circuit():\n",
        "\n",
        "  # Write the circuit\n",
        "\n",
        "  # Return the requested output\n",
        "\n",
        "circuit()"
      ],
      "metadata": {
        "id": "R3WInVDg2Rp6"
      },
      "execution_count": null,
      "outputs": []
    },
    {
      "cell_type": "markdown",
      "source": [
        "(ii) Output: Expectation value of the Hamiltonian $ H = 2X \\otimes X + 5 Y \\otimes Y $\n",
        "\n",
        "<p align=\"center\">\n",
        "  <img width=\"50%\" src=\"https://raw.githubusercontent.com/gmlejarza/Tutorials_Perimeter/main/images/circuit_building_2.png\" />\n",
        "</p>\n"
      ],
      "metadata": {
        "id": "F4AfCxSGV2xI"
      }
    },
    {
      "cell_type": "code",
      "source": [
        "dev = # Define the device\n",
        "\n",
        "# If you want to define the Hamiltonian here, do so\n",
        "\n",
        "# Decorate the QNode\n",
        "def circuit():\n",
        "\n",
        "  # Write the circuit\n",
        "\n",
        "  # Return the requested output\n",
        "\n",
        "circuit()"
      ],
      "metadata": {
        "id": "SIXPGlze28zF"
      },
      "execution_count": null,
      "outputs": []
    },
    {
      "cell_type": "markdown",
      "source": [
        "(iii) Output: Full two-qubit quantum state at the end of the circuit\n",
        "\n",
        "<p align=\"center\">\n",
        "  <img width=\"50%\" src=\"https://raw.githubusercontent.com/gmlejarza/Tutorials_Perimeter/main/images/circuit_building_3.png\" />\n",
        "</p>"
      ],
      "metadata": {
        "id": "8yAHIuctZZNq"
      }
    },
    {
      "cell_type": "code",
      "source": [
        "dev = # Define the device\n",
        "\n",
        "# Decorate the QNode\n",
        "def circuit():\n",
        "\n",
        "  # Write the circuit\n",
        "\n",
        "  # Return the requested output\n",
        "\n",
        "circuit()"
      ],
      "metadata": {
        "id": "CRgdmPk-3_R2"
      },
      "execution_count": null,
      "outputs": []
    },
    {
      "cell_type": "markdown",
      "source": [
        "(iv) Output: Reduced density matrix on the first two wires.\n",
        "\n",
        "<p align=\"center\">\n",
        "  <img width=\"50%\" src=\"https://raw.githubusercontent.com/gmlejarza/Tutorials_Perimeter/main/images/circuit_building_4.png\" />\n",
        "</p>"
      ],
      "metadata": {
        "id": "GUPWI52DaEZP"
      }
    },
    {
      "cell_type": "code",
      "source": [
        "dev = # Define the device\n",
        "\n",
        "# Decorate the QNode\n",
        "def circuit():\n",
        "\n",
        "  # Write the circuit\n",
        "\n",
        "  # Return the requested output\n",
        "\n",
        "circuit()"
      ],
      "metadata": {
        "id": "fFWiUgQ24hDN"
      },
      "execution_count": null,
      "outputs": []
    },
    {
      "cell_type": "markdown",
      "source": [
        "### **B. Deutsch-Jozsa algorithm**\n",
        "\n",
        "**Do this exercise if you're interested in applying your circuit building skills to construct some standard quantum algorithms.**\n",
        "\n",
        "Now let's apply our circuit-building skills to implement oracle-based quantum algorithms. Let's start with Deutsch-Jozsa.\n",
        "\n",
        "Recall that the Deustch-Jozsa Algorithm tells us whether a function $f:\\{0,1\\}^n \\rightarrow \\{0,1\\}$ is constant or balanced. Here, balanced means that $|f^{-1}(0)| = |f^{-1}(1)|.$ This function is encoded in a \"black box oracle\", which is a unitary $U_f$ such that $U_f(\\vert \\mathbf{x} \\rangle) = \\vert \\mathbf{x}\\rangle$ if $f(\\mathbf{x}) = 0,$ and $U_f(\\vert \\mathbf{x} \\rangle) = -\\vert \\mathbf{x}\\rangle$ if $f(\\mathbf{x}) = 1.$\n",
        "\n",
        "You are asked to implement the Deutsch-Jozsa algorithm to determine whether the functions that a randomly generated oracle encodes are constant or balanced. Do some Google research if you don't remember/ever learned how Deutsch-Jozsa works!\n",
        "\n",
        "The following `generate_oracle` function generates the matrix of a random oracle using a seed. All oracles are assumed to be represented by $16 \\times 16$ matrices (so we're working with $n=4$ qubits). **Run the cell below.**"
      ],
      "metadata": {
        "id": "_tq8onP7aRdA"
      }
    },
    {
      "cell_type": "code",
      "source": [
        "def generate_oracle(seed):\n",
        "\n",
        "  random.seed(seed)\n",
        "  j = random.randint(0,1)\n",
        "  k = random.randint(0,1)\n",
        "  length = 8\n",
        "  array = [j] * length + [k] * length\n",
        "  random.shuffle(array)\n",
        "\n",
        "  oracle = np.identity(16)\n",
        "  for i in range(len(array)):\n",
        "    if array[i]==1:\n",
        "      oracle[i][i] = -1\n",
        "  return oracle"
      ],
      "metadata": {
        "id": "PA08obNntJjc"
      },
      "execution_count": null,
      "outputs": []
    },
    {
      "cell_type": "markdown",
      "source": [
        "Now determine whether the a given seed generates an oracle associated with constant or balanced function using the Deutsch-Jozsa Algorithm shown below. **Complete the cell below with your solution.**\n",
        "\n",
        "<p align=\"center\">\n",
        "  <img width=\"50%\" src=\"https://raw.githubusercontent.com/gmlejarza/Tutorials_Perimeter/main/images/dj.png\" />\n",
        "</p>\n",
        "\n",
        "*Hint:* Combine PennyLane's `qml.QubitUnitary` with the `generate_oracle` function defined above."
      ],
      "metadata": {
        "id": "iI1i35hz6csE"
      }
    },
    {
      "cell_type": "code",
      "source": [
        "dev = qml.device('default.qubit', wires = range(4))\n",
        "\n",
        "@qml.qnode(dev)\n",
        "def deutsch_jozsa(seed):\n",
        "\n",
        "  # Code the Deutsch-Jozsa algorithm\n",
        "\n",
        "  return # Return the probabilities"
      ],
      "metadata": {
        "id": "MbbCzp7z6Ipv"
      },
      "execution_count": null,
      "outputs": []
    },
    {
      "cell_type": "markdown",
      "source": [
        "### **C. Grover's algorithm**\n",
        "\n",
        "**Do this exercise if you're interested in applying your circuit building skills to construct some standard quantum algorithms.**\n",
        "\n",
        "Now let's code the famous Grover Search Algorithm! For a function $f:\\{0,1,\\ldots, N-1\\}\\rightarrow \\{0,1\\}$ Grover's algorithm determines the set $f^{-1}(1)$; that is, it finds the solutions to the equation $f(s) = 1$. In this problem, we will assume that $|f^{-1}(1)| = 1$, so that only one such solution $s$ exists.\n",
        "\n",
        "The code below uses a `seed` to generate the binary representation of a random solution $s.$ For $N=16$, your task is to use Grover's Algorithm to find the solution $s$. **Run the cell below.**"
      ],
      "metadata": {
        "id": "m-UVk6pa8uQU"
      }
    },
    {
      "cell_type": "code",
      "source": [
        "def generate_s(seed):\n",
        "\n",
        "  random.seed(seed)\n",
        "  length = 16\n",
        "  k = random.randint(0,length-1)\n",
        "  array = np.binary_repr(k, width = 4)\n",
        "\n",
        "  return np.array([float(i) for i in array])"
      ],
      "metadata": {
        "id": "wipL4iXF8oSF"
      },
      "execution_count": null,
      "outputs": []
    },
    {
      "cell_type": "markdown",
      "source": [
        "(i) First, let's build an oracle $U_f$ associated with the function $f$. The action of this oracle is $U_f\\vert \\mathbf{x}\\rangle |y\\rangle = |\\mathbf{x}\\rangle |y\\oplus f(\\mathbf{x})\\rangle.$ Here, $y$ is an auxiliary qubit. As a gate, this oracle is the 5-qubit unitary shown below,\n",
        "\n",
        "<p align=\"center\">\n",
        "  <img width=\"50%\" src=\"https://raw.githubusercontent.com/gmlejarza/Tutorials_Perimeter/main/images/oracle.png\" />\n",
        "</p>\n",
        "\n",
        "where the control values are given by the binary representation of the unique solution $s$. In the figure, it's $1001_2 = 9.$\n",
        "\n",
        "**Complete the cell below** with a subcircuit that applies this oracle as a function of the `seed`. The function `generate_f` will be super useful for you.\n",
        "\n",
        "*Hint:* Use the `qml.MultiControlledX` gate."
      ],
      "metadata": {
        "id": "xM63zhJ_fK5B"
      }
    },
    {
      "cell_type": "code",
      "source": [
        "def grover_oracle(seed):\n",
        "\n",
        "  # Apply the gate corresponding to the oracle"
      ],
      "metadata": {
        "id": "KrAKjMmmf2rL"
      },
      "execution_count": null,
      "outputs": []
    },
    {
      "cell_type": "markdown",
      "source": [
        "(ii) Next, let's build the diffusion operator, which is the following 5-qubit unitary.\n",
        "\n",
        "<p align=\"center\">\n",
        "  <img width=\"50%\" src=\"https://raw.githubusercontent.com/gmlejarza/Tutorials_Perimeter/main/images/diffusion.png\" />\n",
        "</p>"
      ],
      "metadata": {
        "id": "H3S2BtcM0Xva"
      }
    },
    {
      "cell_type": "code",
      "source": [
        "def diffusion():\n",
        "\n",
        "  # Apply the diffusion operator"
      ],
      "metadata": {
        "id": "Ah3xaHOqs_7T"
      },
      "execution_count": null,
      "outputs": []
    },
    {
      "cell_type": "markdown",
      "source": [
        "(iii) Finally, let's build the circuit for Grover search given below. What is the number of oracle-diffusion iterations needed to find the solution with maximal probability?\n",
        "\n",
        "<p align=\"center\">\n",
        "  <img width=\"50%\" src=\"https://raw.githubusercontent.com/gmlejarza/Tutorials_Perimeter/main/images/grover.png\" />\n",
        "</p>"
      ],
      "metadata": {
        "id": "A5LBXMgP1JcT"
      }
    },
    {
      "cell_type": "code",
      "source": [
        "dev = qml.device('default.qubit', wires = range(5))\n",
        "\n",
        "@qml.qnode(dev)\n",
        "def grover_circuit(seed, num_iterations):\n",
        "\n",
        " # Run Grover's Search Algorithm\n",
        "\n",
        "  return # Return the probabilities"
      ],
      "metadata": {
        "id": "s6jwIIYuvY2s"
      },
      "execution_count": null,
      "outputs": []
    },
    {
      "cell_type": "markdown",
      "source": [
        "## **2. Circuit optimization**"
      ],
      "metadata": {
        "id": "EquFs5EytFnS"
      }
    },
    {
      "cell_type": "markdown",
      "source": [
        "### **A. Practice makes perfect**\n",
        "\n",
        "Build each of the following parametric circuits in PennyLane as QNodes, write the cost functions specified, and find their minima. For reference, the code you need to optimize cost functions using gradient descent is given below."
      ],
      "metadata": {
        "id": "1-mtlKrKtPNZ"
      }
    },
    {
      "cell_type": "code",
      "source": [
        "def optimize(cost_function, init_params, steps):\n",
        "\n",
        "  opt = qml.GradientDescentOptimizer(stepsize = 0.4) # Change this as you see fit\n",
        "\n",
        "  steps = 100\n",
        "\n",
        "  params = init_params\n",
        "\n",
        "  for i in range(steps):\n",
        "\n",
        "    params = opt.step(cost_function, params)\n",
        "\n",
        "  return params, cost_function(params)"
      ],
      "metadata": {
        "id": "QfOv1YUc5O5R"
      },
      "execution_count": null,
      "outputs": []
    },
    {
      "cell_type": "markdown",
      "source": [
        "(i) Cost function: Expectation value of the Pauli-Z operator on the first wire\n",
        "\n",
        "<p align=\"center\">\n",
        "  <img width=\"50%\" src=\"https://raw.githubusercontent.com/gmlejarza/Tutorials_Perimeter/main/images/optimization_1.png\" />\n",
        "</p>"
      ],
      "metadata": {
        "id": "cLANispo7Atm"
      }
    },
    {
      "cell_type": "code",
      "source": [
        "dev = qml.device('default.qubit', wires = [0,1,2])\n",
        "\n",
        "@qml.qnode(dev)\n",
        "def circuit(params):\n",
        "\n",
        " # Your circuit here"
      ],
      "metadata": {
        "id": "52srqpNE70oU"
      },
      "execution_count": null,
      "outputs": []
    },
    {
      "cell_type": "code",
      "source": [
        "def cost_function(params):\n",
        "  # Write your cost function here\n",
        "\n",
        "# Use the optimize routine to find the minimum"
      ],
      "metadata": {
        "id": "m9-ol1V7AQ-y"
      },
      "execution_count": null,
      "outputs": []
    },
    {
      "cell_type": "markdown",
      "source": [
        "Cost function: Minus the fidelity between the circuit's output state and the Bell state $\\left\\lvert \\Phi_{+} \\right\\rangle = \\frac{1}{\\sqrt{2}} \\left\\lvert 00\\right\\rangle + \\frac{1}{\\sqrt{2}}\\left\\lvert 11 \\right\\rangle.$\n",
        "\n",
        "<p align=\"center\">\n",
        "  <img width=\"30%\" src=\"https://raw.githubusercontent.com/gmlejarza/Tutorials_Perimeter/main/images/optimization_2.png\" />\n",
        "</p>"
      ],
      "metadata": {
        "id": "oKMRHAMW7mFt"
      }
    },
    {
      "cell_type": "code",
      "source": [
        "dev = qml.device('default.qubit', wires = [0,1])\n",
        "\n",
        "@qml.qnode(dev)\n",
        "def circuit(params):\n",
        "\n",
        " # Your circuit here"
      ],
      "metadata": {
        "id": "eRibVJff9vkj"
      },
      "execution_count": null,
      "outputs": []
    },
    {
      "cell_type": "code",
      "source": [
        "def cost_function(params):\n",
        "  # Write your cost function here\n",
        "\n",
        "# Use the optimize routine to find the minimum"
      ],
      "metadata": {
        "id": "9a_ZCev994D9"
      },
      "execution_count": null,
      "outputs": []
    },
    {
      "cell_type": "markdown",
      "source": [
        "(iii) Cost function: Minus the purity of the reduced density operator representing the output in the first two wires.\n",
        "\n",
        "<p align=\"center\">\n",
        "  <img width=\"50%\" src=\"https://raw.githubusercontent.com/gmlejarza/Tutorials_Perimeter/main/images/optimization_3.png\" />\n",
        "</p>"
      ],
      "metadata": {
        "id": "e5DeuzgE8BYJ"
      }
    },
    {
      "cell_type": "code",
      "source": [
        "dev = qml.device('default.qubit', wires = [0,1,2])\n",
        "\n",
        "@qml.qnode(dev)\n",
        "def circuit(params):\n",
        "\n",
        " # Your circuit here\n"
      ],
      "metadata": {
        "id": "QkRuMsuBFnUZ"
      },
      "execution_count": null,
      "outputs": []
    },
    {
      "cell_type": "code",
      "source": [
        "def cost_function(params):\n",
        "  # Write your cost function here\n",
        "\n",
        "# Use the optimize routine to find the minimum"
      ],
      "metadata": {
        "id": "UdQprMKEGeyH"
      },
      "execution_count": null,
      "outputs": []
    },
    {
      "cell_type": "markdown",
      "source": [
        "### **B. Application: Distinguishing Quantum States**"
      ],
      "metadata": {
        "id": "rxyHz8Gb6X0P"
      }
    },
    {
      "cell_type": "markdown",
      "source": [
        "Suppose that you have prepared a quantum state, but you're not entirely sure which state it is. You know that you may have prepared\n",
        "\n",
        "$$ \\vert \\phi_1 \\rangle = \\cos(\\theta_1)\\vert 0 \\rangle + \\sin(\\theta_1)\\vert 1 \\rangle \\quad \\mathrm{with \\ probability\\ } p_1,$$\n",
        "$$ \\vert \\phi_2 \\rangle = \\cos(\\theta_2)\\vert 0 \\rangle + \\sin(\\theta_2)\\vert 1 \\rangle \\quad \\mathrm{with \\ probability\\ } p_2,$$\n",
        "\n",
        "where $\\theta_1$ ande $\\theta_2$ are given. You are asked to devise an optimal strategy that will correctly identify the state with the highest probability possible. In this context, this means that you must maximize the average case success probability\n",
        "\n",
        "$$ p_{success} = p_1\\times q_1 + p_2\\times q_2,$$\n",
        "\n",
        "where $q_i = Prob(\\text{state identified as } \\vert \\phi_i\\rangle \\vert \\text{state was actually} \\vert \\phi_i\\rangle).$ This maximum depends on the values of $\\theta_1$ and $\\theta_2.$\n",
        "\n",
        "(Of course, you may compute this directly using the Holevo-Helstrom theorem, but try to use an optimization routine instead!)"
      ],
      "metadata": {
        "id": "d_0uUcrNHbeX"
      }
    },
    {
      "cell_type": "code",
      "source": [
        "dev = qml.device('default.qubit', wires = 1)\n",
        "\n",
        "@qml.qnode(dev)\n",
        "def max_prob(theta, angle):\n",
        "\n",
        "  # What's your strategy to try and distinguish states?\n",
        "\n",
        "theta_1 = # Choose a value\n",
        "theta_2 = # Choose a value\n",
        "p_1 = # Choose a value\n",
        "p_2 = # Choose a value\n",
        "\n",
        "def cost(angle):\n",
        "\n",
        "    # Minimize something to find the maximum value of the average case success probability"
      ],
      "metadata": {
        "id": "RRl-fq0sK1SM"
      },
      "execution_count": null,
      "outputs": []
    },
    {
      "cell_type": "markdown",
      "source": [
        "### **C. Application: The CHSH game**"
      ],
      "metadata": {
        "id": "hVOJklrz7A4x"
      }
    },
    {
      "cell_type": "markdown",
      "source": [
        "The CHSH game provides an example of a quantum strategy that increases the probability of winning over any possible classical protocol. The game is collaborative between two parties, Alice and Bob, who are given two random bits $x$ and $y$, where $x$ is known by Alice and $y$ is known by Bob. Alice and Bob will additionally select two values, $a$ and $b$, which can be 0 or 1, and will win if\n",
        "\n",
        "$$x\\cdot y = a\\oplus b, $$\n",
        "\n",
        "where $\\oplus$ represents addition modulo 2. Since the probability of $x\\cdot y=0$  is 75%, the best classical strategy is that both of them previously agree on choosing either $a,b = 0,0$ or $1,1$, ignoring the bits they received.  \n",
        "\n",
        "Can Alice and Bob do better if we provide them with an entangled pair of qubits? Let's consider the following quantum strategy. Alice and Bob are provided with the Bell pair\n",
        "\n",
        "$$\\left\\lvert \\Phi_{+} \\right\\rangle = \\frac{1}{\\sqrt{2}} \\left\\lvert 00\\right\\rangle + \\frac{1}{\\sqrt{2}}\\left\\lvert 11 \\right\\rangle.$$\n",
        "\n",
        "With this state given to them, Alice and Bob devise a way to win the game by making conditional measurements in different bases.\n",
        "\n",
        "Alice and Bob *separately* choose a measurement basis $\\left\\lbrace \\left\\lvert \\nu_0(\\theta) \\right\\rangle, \\left\\lvert \\nu_1(\\theta) \\right\\rangle\\right\\rbrace$, where\n",
        "\n",
        "$$ \\left\\lvert \\nu_0(\\theta) \\right\\rangle = \\cos(\\theta)\\left\\lvert 0 \\right\\rangle +  \\sin(\\theta)\\left\\lvert 1 \\right\\rangle$$\n",
        "and\n",
        "$$ \\left\\lvert \\nu_1(\\theta) \\right\\rangle = -\\sin(\\theta)\\left\\lvert 0 \\right\\rangle + \\cos(\\theta)\\left\\lvert 1 \\right\\rangle. $$\n",
        "\n",
        "For her basis, Alice chooses $\\theta = \\theta_{A0}$ if she receives $x=0$, and $\\theta = \\theta_{A1}$ if she receives $x=1$. Similarly, Bob will choose $\\theta = \\theta_{B0}$ if $y=0$ and $\\theta = \\theta_{B1}$ if $y=1$. Having chosen their angles that define their respective measurement bases, they measure $| \\psi \\rangle$! If Alice's measurement result corresponds to $\\nu_0$ ($\\nu_1$), she chooses $a = 0$ ($1$). Bob's choice is made in a similar fashion.\n",
        "\n",
        "Your task is to build the quantum circuit that implements the measurements in the bases above and provide a set of angles that Alice and Bob should choose to maximize their probability of winning. Is the probability of winning is larger than in the classical setup?"
      ],
      "metadata": {
        "id": "guMWZKuWd8Jl"
      }
    },
    {
      "cell_type": "markdown",
      "source": [
        "(i) First, let's build a circuit that prepares the Bell Pair. **Complete the circuit below.**"
      ],
      "metadata": {
        "id": "Brfk7ip4qntv"
      }
    },
    {
      "cell_type": "code",
      "source": [
        "def prepare_entangled():\n",
        "\n",
        "  # Your circuit here"
      ],
      "metadata": {
        "id": "ccKOhDouqVsj"
      },
      "execution_count": null,
      "outputs": []
    },
    {
      "cell_type": "markdown",
      "source": [
        "(ii) Now, complete the QNode `chsh_circuit` where Alice and Bob independently choose a measurement basis according to the results of their bits. Here `bit1` is the bit that Alice receives and `bit2` is the one that Bob receives. The measurement basis angles are enconded in the argument `params`, an array of the form $[\\theta_{A0}, \\theta_{A1}, \\theta_{B0}, \\theta_{B1}]$."
      ],
      "metadata": {
        "id": "4CPWp3XgtcZn"
      }
    },
    {
      "cell_type": "code",
      "source": [
        "dev = qml.device('default.qubit', wires = [0,1])\n",
        "\n",
        "@qml.qnode(dev)\n",
        "def chsh_circuit(params, bit1, bit2):\n",
        "\n",
        "  # Your circuit here"
      ],
      "metadata": {
        "id": "z9xEH9mysNSL"
      },
      "execution_count": null,
      "outputs": []
    },
    {
      "cell_type": "markdown",
      "source": [
        "(iii) Our cost function should be the probability that Alice and Bob win given their choice of basis. Define the function `winning_prob` that calculates the probability of winning given a choice of basis. Once again, the angles determining the basis are encoded in an array `params` of the form $[\\theta_{A0}, \\theta_{A1}, \\theta_{B0}, \\theta_{B1}]$."
      ],
      "metadata": {
        "id": "suwX_2GqvGKc"
      }
    },
    {
      "cell_type": "code",
      "source": [
        "def winning_prob(params):\n",
        "\n",
        "  # Calculate Alice and Bob's probability of winning given their choices of measurement bases"
      ],
      "metadata": {
        "id": "NAR9-rY_urlP"
      },
      "execution_count": null,
      "outputs": []
    },
    {
      "cell_type": "markdown",
      "source": [
        "(iv) Using the `winning_prob` function, define a cost function that we need to minimize."
      ],
      "metadata": {
        "id": "_aEgfG2iyUdd"
      }
    },
    {
      "cell_type": "code",
      "source": [
        "def cost(params):\n",
        "  # Write your cost function"
      ],
      "metadata": {
        "id": "dSNoUwG4xS59"
      },
      "execution_count": null,
      "outputs": []
    },
    {
      "cell_type": "markdown",
      "source": [
        "(v) Finally, optimize the `cost` function."
      ],
      "metadata": {
        "id": "bw9GtA1CzDAg"
      }
    },
    {
      "cell_type": "code",
      "source": [
        "# Use the optimize routine with the relevant cost function!"
      ],
      "metadata": {
        "id": "D_WM27m-y9HG"
      },
      "execution_count": null,
      "outputs": []
    }
  ]
}