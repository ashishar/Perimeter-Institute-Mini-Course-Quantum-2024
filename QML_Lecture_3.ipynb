{
  "nbformat": 4,
  "nbformat_minor": 0,
  "metadata": {
    "colab": {
      "provenance": [],
      "include_colab_link": true
    },
    "kernelspec": {
      "name": "python3",
      "display_name": "Python 3"
    },
    "language_info": {
      "name": "python"
    }
  },
  "cells": [
    {
      "cell_type": "markdown",
      "metadata": {
        "id": "view-in-github",
        "colab_type": "text"
      },
      "source": [
        "<a href=\"https://colab.research.google.com/github/ashishar/Perimeter-Institute-Mini-Course-Quantum-2024/blob/master/QML_Lecture_3.ipynb\" target=\"_parent\"><img src=\"https://colab.research.google.com/assets/colab-badge.svg\" alt=\"Open In Colab\"/></a>"
      ]
    },
    {
      "cell_type": "code",
      "execution_count": null,
      "metadata": {
        "id": "xKXqULMdsYZO"
      },
      "outputs": [],
      "source": [
        "%%capture\n",
        "!pip install pennylane"
      ]
    },
    {
      "cell_type": "code",
      "source": [
        "import pennylane as qml\n",
        "from pennylane import numpy as np\n",
        "import matplotlib.pyplot as plt"
      ],
      "metadata": {
        "id": "DA1-zyz_sbJR"
      },
      "execution_count": null,
      "outputs": []
    },
    {
      "cell_type": "code",
      "source": [
        "X = np.linspace(0,2*np.pi,10)\n",
        "X.requires_grad = False\n",
        "X_test = np.linspace(0.2,2*np.pi+0.2,10)"
      ],
      "metadata": {
        "id": "I-J-NbT0siiZ"
      },
      "execution_count": null,
      "outputs": []
    },
    {
      "cell_type": "code",
      "source": [
        "dev = qml.device('default.qubit', wires = 1)\n",
        "\n",
        "@qml.qnode(dev)\n",
        "def quantum_model(x, params):\n",
        "  qml.RX(x, wires = 0)\n",
        "  qml.Rot(*params, wires = 0)\n",
        "\n",
        "  return qml.expval(qml.PauliZ(wires = 0))\n",
        "\n",
        "qml.draw_mpl(quantum_model, decimals=1)(0.1,[0.1,0.1,0.1])"
      ],
      "metadata": {
        "colab": {
          "base_uri": "https://localhost:8080/",
          "height": 254
        },
        "id": "NmEwi7JOsrMJ",
        "outputId": "5d22f2d3-9ed3-4a45-c3b3-8eb2b4b21a46"
      },
      "execution_count": null,
      "outputs": [
        {
          "output_type": "execute_result",
          "data": {
            "text/plain": [
              "(<Figure size 500x200 with 1 Axes>, <Axes: >)"
            ]
          },
          "metadata": {},
          "execution_count": 10
        },
        {
          "output_type": "display_data",
          "data": {
            "text/plain": [
              "<Figure size 500x200 with 1 Axes>"
            ],
            "image/png": "[encoded data removed]"
          },
          "metadata": {}
        }
      ]
    },
    {
      "cell_type": "code",
      "source": [
        "def loss(Y,predictions):\n",
        "    total_loss=0\n",
        "    for y,p in zip(Y,predictions):\n",
        "        total_loss += (y-p)**2\n",
        "    return total_loss"
      ],
      "metadata": {
        "id": "nZGs-EpYt1-G"
      },
      "execution_count": null,
      "outputs": []
    },
    {
      "cell_type": "code",
      "source": [
        "def cost(X,params):\n",
        "    predictions = [quantum_model(x,params) for x in X]\n",
        "    Y = np.sin(X)\n",
        "    cost = loss(Y,predictions)\n",
        "    return cost"
      ],
      "metadata": {
        "id": "9a-RASAMuz3F"
      },
      "execution_count": null,
      "outputs": []
    },
    {
      "cell_type": "code",
      "source": [
        "# Step 6 - Train your circuit\n",
        "\n",
        "# Steps 6.1 - Choose an optimizer and a step size\n",
        "opt = qml.GradientDescentOptimizer(stepsize=0.1)\n",
        "\n",
        "# Step 6.2 Make an initial guess for the parameters and set them as trainable\n",
        "params = np.array([0.1,0.1,0.1],requires_grad=True)\n",
        "\n",
        "# Step 6.2 - Iterate over a number of defined steps\n",
        "for i in range(100):\n",
        "    data_and_params,prev_cost = opt.step_and_cost(cost,X,params)\n",
        "    params = data_and_params[1]\n",
        "    if i%10==0:\n",
        "        print(f'Step: {i},Cost: {cost(X,params)}')"
      ],
      "metadata": {
        "colab": {
          "base_uri": "https://localhost:8080/"
        },
        "id": "MHWHs-nzvEzW",
        "outputId": "c9d18b4c-57bd-42b6-f507-f7bf4bc76851"
      },
      "execution_count": null,
      "outputs": [
        {
          "output_type": "stream",
          "name": "stdout",
          "text": [
            "Step: 0,Cost: 9.932888918479078\n",
            "Step: 10,Cost: 0.015055887192330916\n",
            "Step: 20,Cost: 0.0034863357216068525\n",
            "Step: 30,Cost: 0.0015271569906079433\n",
            "Step: 40,Cost: 0.0008553695091742079\n",
            "Step: 50,Cost: 0.000546727803367964\n",
            "Step: 60,Cost: 0.0003795931092589439\n",
            "Step: 70,Cost: 0.0002789505418953934\n",
            "Step: 80,Cost: 0.0002136616660207514\n",
            "Step: 90,Cost: 0.00016890254015881152\n"
          ]
        }
      ]
    },
    {
      "cell_type": "code",
      "source": [
        "params"
      ],
      "metadata": {
        "colab": {
          "base_uri": "https://localhost:8080/"
        },
        "id": "ZqbmUdvIvXRD",
        "outputId": "789c05c9-2743-4d40-a3ea-f4ea81c3f427"
      },
      "execution_count": null,
      "outputs": [
        {
          "output_type": "execute_result",
          "data": {
            "text/plain": [
              "tensor([-1.46519326,  1.57079633,  0.1       ], requires_grad=True)"
            ]
          },
          "metadata": {},
          "execution_count": 14
        }
      ]
    },
    {
      "cell_type": "code",
      "source": [
        "# Step 6 - Test and graph your results!\n",
        "test_predictions = []\n",
        "for x_test in X_test:\n",
        "    prediction = quantum_model(x_test,params)\n",
        "    test_predictions.append(prediction)\n",
        "\n",
        "fig = plt.figure()\n",
        "ax1 = fig.add_subplot(111)\n",
        "\n",
        "ax1.scatter(X, np.sin(X), s=30, c='b', marker=\"s\", label='Train outputs')\n",
        "ax1.scatter(X_test,np.sin(X_test), s=60, c='r', marker=\"o\", label='Test outputs')\n",
        "ax1.scatter(X_test,test_predictions, s=30, c='k', marker=\"x\", label='Test predicitons')\n",
        "plt.xlabel(\"Inputs\")\n",
        "plt.ylabel(\"Outputs\")\n",
        "plt.title(\"QML results\")\n",
        "\n",
        "plt.legend(loc='upper right');\n",
        "plt.show()"
      ],
      "metadata": {
        "colab": {
          "base_uri": "https://localhost:8080/",
          "height": 472
        },
        "id": "Kvjqi2bGve1y",
        "outputId": "c8a3f9e3-91bb-4397-8938-6cce1fa4f439"
      },
      "execution_count": null,
      "outputs": [
        {
          "output_type": "display_data",
          "data": {
            "text/plain": [
              "<Figure size 640x480 with 1 Axes>"
            ],
            "image/png": "[encoded data removed]"
          },
          "metadata": {}
        }
      ]
    },
    {
      "cell_type": "code",
      "source": [
        "dev = qml.device(\"default.qubit\", wires = [0,1,2,3])\n",
        "\n",
        "def layer(layer_weights):\n",
        "    for wire in range(4):\n",
        "        qml.Rot(*layer_weights[wire], wires=wire)\n",
        "\n",
        "    for wires in ([0, 1], [1, 2], [2, 3], [3, 0]):\n",
        "        qml.CNOT(wires)\n",
        "\n",
        "@qml.qnode(dev)\n",
        "def circuit(weights, x):\n",
        "    qml.BasisState(x, wires=[0, 1, 2, 3])\n",
        "\n",
        "    for layer_weights in weights:\n",
        "        layer(layer_weights)\n",
        "\n",
        "    return qml.expval(qml.PauliZ(0))\n"
      ],
      "metadata": {
        "id": "ZjCk_D-bvtSI"
      },
      "execution_count": null,
      "outputs": []
    },
    {
      "cell_type": "code",
      "source": [
        "def variational_classifier(weights, bias, x):\n",
        "    return circuit(weights, x) + bias"
      ],
      "metadata": {
        "id": "LQDS9uZA0Fnt"
      },
      "execution_count": null,
      "outputs": []
    },
    {
      "cell_type": "code",
      "source": [
        "def square_loss(labels, predictions):\n",
        "    # We use a call to qml.math.stack to allow subtracting the arrays directly\n",
        "    return np.mean((labels - qml.math.stack(predictions)) ** 2)"
      ],
      "metadata": {
        "id": "oGfx-JNIzZQR"
      },
      "execution_count": null,
      "outputs": []
    },
    {
      "cell_type": "code",
      "source": [
        "def accuracy(labels, predictions):\n",
        "    acc = sum(abs(l - p) < 1e-5 for l, p in zip(labels, predictions))\n",
        "    acc = acc / len(labels)\n",
        "    return acc"
      ],
      "metadata": {
        "id": "OqTLs9k2ztbz"
      },
      "execution_count": null,
      "outputs": []
    },
    {
      "cell_type": "code",
      "source": [
        "def cost(weights, bias, X, Y):\n",
        "    predictions = [variational_classifier(weights, bias, x) for x in X]\n",
        "    return square_loss(Y, predictions)"
      ],
      "metadata": {
        "id": "YMgH5LhDz8jT"
      },
      "execution_count": null,
      "outputs": []
    },
    {
      "cell_type": "code",
      "source": [
        "data_train = np.array([[0, 0, 0, 1, 1],\n",
        "[0, 0, 1, 0, 1],\n",
        "[0, 1, 0, 0, 1],\n",
        "[0, 1, 0, 1, 0],\n",
        "[0, 1, 1, 0, 0],\n",
        "[0, 1, 1, 1, 1],\n",
        "[1, 0, 0, 0, 1],\n",
        "[1, 0, 0, 1, 0],\n",
        "[1, 0, 1, 1, 1],\n",
        "[1, 1, 1, 1, 0]])\n",
        "\n",
        "X = np.array(data_train[:, :-1])\n",
        "Y = np.array(data_train[:, -1])\n",
        "Y = Y * 2 - 1  # shift label from {0, 1} to {-1, 1}\n",
        "\n",
        "for x,y in zip(X, Y):\n",
        "    print(f\"x = {x}, y = {y}\")"
      ],
      "metadata": {
        "colab": {
          "base_uri": "https://localhost:8080/"
        },
        "id": "APiudbfU0Mp9",
        "outputId": "3af9aed4-4825-40ef-8709-2a28057db9e3"
      },
      "execution_count": null,
      "outputs": [
        {
          "output_type": "stream",
          "name": "stdout",
          "text": [
            "x = [0 0 0 1], y = 1\n",
            "x = [0 0 1 0], y = 1\n",
            "x = [0 1 0 0], y = 1\n",
            "x = [0 1 0 1], y = -1\n",
            "x = [0 1 1 0], y = -1\n",
            "x = [0 1 1 1], y = 1\n",
            "x = [1 0 0 0], y = 1\n",
            "x = [1 0 0 1], y = -1\n",
            "x = [1 0 1 1], y = 1\n",
            "x = [1 1 1 1], y = -1\n"
          ]
        }
      ]
    },
    {
      "cell_type": "code",
      "source": [
        "np.random.seed(0)\n",
        "\n",
        "num_qubits = 4\n",
        "num_layers = 2\n",
        "weights_init = 0.01 * np.random.randn(num_layers, num_qubits, 3, requires_grad=True)\n",
        "bias_init = np.array(0.0, requires_grad=True)\n",
        "\n",
        "print(\"Weights:\", weights_init)\n",
        "print(\"Bias: \", bias_init)"
      ],
      "metadata": {
        "colab": {
          "base_uri": "https://localhost:8080/"
        },
        "id": "EV57chHa0j25",
        "outputId": "b8c269ef-fcf6-499d-bcb3-a914f8c9a68e"
      },
      "execution_count": null,
      "outputs": [
        {
          "output_type": "stream",
          "name": "stdout",
          "text": [
            "Weights: [[[ 0.01764052  0.00400157  0.00978738]\n",
            "  [ 0.02240893  0.01867558 -0.00977278]\n",
            "  [ 0.00950088 -0.00151357 -0.00103219]\n",
            "  [ 0.00410599  0.00144044  0.01454274]]\n",
            "\n",
            " [[ 0.00761038  0.00121675  0.00443863]\n",
            "  [ 0.00333674  0.01494079 -0.00205158]\n",
            "  [ 0.00313068 -0.00854096 -0.0255299 ]\n",
            "  [ 0.00653619  0.00864436 -0.00742165]]]\n",
            "Bias:  0.0\n"
          ]
        }
      ]
    },
    {
      "cell_type": "code",
      "source": [
        "from pennylane.optimize import NesterovMomentumOptimizer\n",
        "opt = NesterovMomentumOptimizer(0.5)\n",
        "batch_size = 5\n",
        "\n",
        "weights = weights_init\n",
        "bias = bias_init\n",
        "for it in range(100):\n",
        "\n",
        "    # Update the weights by one optimizer step, using only a limited batch of data\n",
        "    batch_index = np.random.randint(0, len(X), (batch_size,))\n",
        "    X_batch = X[batch_index]\n",
        "    Y_batch = Y[batch_index]\n",
        "    weights, bias = opt.step(cost, weights, bias, X=X_batch, Y=Y_batch)\n",
        "\n",
        "    # Compute accuracy\n",
        "    predictions = [np.sign(variational_classifier(weights, bias, x)) for x in X]\n",
        "\n",
        "    current_cost = cost(weights, bias, X, Y)\n",
        "    acc = accuracy(Y, predictions)\n",
        "\n",
        "    print(f\"Iter: {it+1:4d} | Cost: {current_cost:0.7f} | Accuracy: {acc:0.7f}\")"
      ],
      "metadata": {
        "colab": {
          "base_uri": "https://localhost:8080/"
        },
        "id": "TmYb292-0x3t",
        "outputId": "9192e71f-e6f2-47e5-d5d5-2682e4cb4bab"
      },
      "execution_count": null,
      "outputs": [
        {
          "output_type": "stream",
          "name": "stdout",
          "text": [
            "Iter:    1 | Cost: 2.3147651 | Accuracy: 0.5000000\n",
            "Iter:    2 | Cost: 1.9664866 | Accuracy: 0.5000000\n",
            "Iter:    3 | Cost: 1.9208589 | Accuracy: 0.5000000\n",
            "Iter:    4 | Cost: 2.6276126 | Accuracy: 0.5000000\n",
            "Iter:    5 | Cost: 0.9323119 | Accuracy: 0.6000000\n",
            "Iter:    6 | Cost: 1.1903549 | Accuracy: 0.5000000\n",
            "Iter:    7 | Cost: 2.0508989 | Accuracy: 0.4000000\n",
            "Iter:    8 | Cost: 1.1275531 | Accuracy: 0.6000000\n",
            "Iter:    9 | Cost: 1.1659803 | Accuracy: 0.6000000\n",
            "Iter:   10 | Cost: 1.1349618 | Accuracy: 0.6000000\n",
            "Iter:   11 | Cost: 0.9994063 | Accuracy: 0.6000000\n",
            "Iter:   12 | Cost: 1.0812559 | Accuracy: 0.6000000\n",
            "Iter:   13 | Cost: 1.2863155 | Accuracy: 0.6000000\n",
            "Iter:   14 | Cost: 2.2658259 | Accuracy: 0.4000000\n",
            "Iter:   15 | Cost: 1.1323724 | Accuracy: 0.6000000\n",
            "Iter:   16 | Cost: 1.3439737 | Accuracy: 0.8000000\n",
            "Iter:   17 | Cost: 2.0076168 | Accuracy: 0.6000000\n",
            "Iter:   18 | Cost: 1.2685760 | Accuracy: 0.5000000\n",
            "Iter:   19 | Cost: 1.6762475 | Accuracy: 0.5000000\n",
            "Iter:   20 | Cost: 1.1868237 | Accuracy: 0.6000000\n",
            "Iter:   21 | Cost: 1.4784687 | Accuracy: 0.6000000\n",
            "Iter:   22 | Cost: 1.4599473 | Accuracy: 0.6000000\n",
            "Iter:   23 | Cost: 0.9573269 | Accuracy: 0.6000000\n",
            "Iter:   24 | Cost: 1.1657424 | Accuracy: 0.5000000\n",
            "Iter:   25 | Cost: 1.0877087 | Accuracy: 0.4000000\n",
            "Iter:   26 | Cost: 1.1683687 | Accuracy: 0.6000000\n",
            "Iter:   27 | Cost: 2.1141689 | Accuracy: 0.6000000\n",
            "Iter:   28 | Cost: 1.0272966 | Accuracy: 0.5000000\n",
            "Iter:   29 | Cost: 0.9664085 | Accuracy: 0.5000000\n",
            "Iter:   30 | Cost: 1.1287654 | Accuracy: 0.6000000\n",
            "Iter:   31 | Cost: 1.4202360 | Accuracy: 0.4000000\n",
            "Iter:   32 | Cost: 1.1286000 | Accuracy: 0.5000000\n",
            "Iter:   33 | Cost: 1.9594333 | Accuracy: 0.4000000\n",
            "Iter:   34 | Cost: 1.2811832 | Accuracy: 0.4000000\n",
            "Iter:   35 | Cost: 0.8522775 | Accuracy: 0.7000000\n",
            "Iter:   36 | Cost: 1.4765281 | Accuracy: 0.6000000\n",
            "Iter:   37 | Cost: 0.9603287 | Accuracy: 0.6000000\n",
            "Iter:   38 | Cost: 1.6031314 | Accuracy: 0.6000000\n",
            "Iter:   39 | Cost: 1.1700888 | Accuracy: 0.4000000\n",
            "Iter:   40 | Cost: 1.7571779 | Accuracy: 0.4000000\n",
            "Iter:   41 | Cost: 1.9608116 | Accuracy: 0.6000000\n",
            "Iter:   42 | Cost: 2.0802752 | Accuracy: 0.6000000\n",
            "Iter:   43 | Cost: 1.1904884 | Accuracy: 0.3000000\n",
            "Iter:   44 | Cost: 0.9941585 | Accuracy: 0.6000000\n",
            "Iter:   45 | Cost: 1.0709609 | Accuracy: 0.5000000\n",
            "Iter:   46 | Cost: 0.9780625 | Accuracy: 0.6000000\n",
            "Iter:   47 | Cost: 1.1573709 | Accuracy: 0.6000000\n",
            "Iter:   48 | Cost: 1.0235239 | Accuracy: 0.6000000\n",
            "Iter:   49 | Cost: 1.2842469 | Accuracy: 0.5000000\n",
            "Iter:   50 | Cost: 0.8549226 | Accuracy: 0.6000000\n",
            "Iter:   51 | Cost: 0.5136787 | Accuracy: 1.0000000\n",
            "Iter:   52 | Cost: 0.2488031 | Accuracy: 1.0000000\n",
            "Iter:   53 | Cost: 0.0461277 | Accuracy: 1.0000000\n",
            "Iter:   54 | Cost: 0.0293518 | Accuracy: 1.0000000\n",
            "Iter:   55 | Cost: 0.0205454 | Accuracy: 1.0000000\n",
            "Iter:   56 | Cost: 0.0352514 | Accuracy: 1.0000000\n",
            "Iter:   57 | Cost: 0.0576767 | Accuracy: 1.0000000\n",
            "Iter:   58 | Cost: 0.0291305 | Accuracy: 1.0000000\n",
            "Iter:   59 | Cost: 0.0127137 | Accuracy: 1.0000000\n",
            "Iter:   60 | Cost: 0.0058108 | Accuracy: 1.0000000\n",
            "Iter:   61 | Cost: 0.0018002 | Accuracy: 1.0000000\n",
            "Iter:   62 | Cost: 0.0014089 | Accuracy: 1.0000000\n",
            "Iter:   63 | Cost: 0.0017489 | Accuracy: 1.0000000\n",
            "Iter:   64 | Cost: 0.0021282 | Accuracy: 1.0000000\n",
            "Iter:   65 | Cost: 0.0029876 | Accuracy: 1.0000000\n",
            "Iter:   66 | Cost: 0.0035331 | Accuracy: 1.0000000\n",
            "Iter:   67 | Cost: 0.0035540 | Accuracy: 1.0000000\n",
            "Iter:   68 | Cost: 0.0025639 | Accuracy: 1.0000000\n",
            "Iter:   69 | Cost: 0.0019459 | Accuracy: 1.0000000\n",
            "Iter:   70 | Cost: 0.0015856 | Accuracy: 1.0000000\n",
            "Iter:   71 | Cost: 0.0008439 | Accuracy: 1.0000000\n",
            "Iter:   72 | Cost: 0.0005960 | Accuracy: 1.0000000\n",
            "Iter:   73 | Cost: 0.0003122 | Accuracy: 1.0000000\n",
            "Iter:   74 | Cost: 0.0002446 | Accuracy: 1.0000000\n",
            "Iter:   75 | Cost: 0.0001745 | Accuracy: 1.0000000\n",
            "Iter:   76 | Cost: 0.0001215 | Accuracy: 1.0000000\n",
            "Iter:   77 | Cost: 0.0001141 | Accuracy: 1.0000000\n",
            "Iter:   78 | Cost: 0.0001538 | Accuracy: 1.0000000\n",
            "Iter:   79 | Cost: 0.0001871 | Accuracy: 1.0000000\n",
            "Iter:   80 | Cost: 0.0001330 | Accuracy: 1.0000000\n",
            "Iter:   81 | Cost: 0.0001380 | Accuracy: 1.0000000\n",
            "Iter:   82 | Cost: 0.0001336 | Accuracy: 1.0000000\n",
            "Iter:   83 | Cost: 0.0001483 | Accuracy: 1.0000000\n",
            "Iter:   84 | Cost: 0.0001234 | Accuracy: 1.0000000\n",
            "Iter:   85 | Cost: 0.0001359 | Accuracy: 1.0000000\n",
            "Iter:   86 | Cost: 0.0001268 | Accuracy: 1.0000000\n",
            "Iter:   87 | Cost: 0.0002270 | Accuracy: 1.0000000\n",
            "Iter:   88 | Cost: 0.0000865 | Accuracy: 1.0000000\n",
            "Iter:   89 | Cost: 0.0000774 | Accuracy: 1.0000000\n",
            "Iter:   90 | Cost: 0.0000759 | Accuracy: 1.0000000\n",
            "Iter:   91 | Cost: 0.0000607 | Accuracy: 1.0000000\n",
            "Iter:   92 | Cost: 0.0000523 | Accuracy: 1.0000000\n",
            "Iter:   93 | Cost: 0.0000536 | Accuracy: 1.0000000\n",
            "Iter:   94 | Cost: 0.0000444 | Accuracy: 1.0000000\n",
            "Iter:   95 | Cost: 0.0000384 | Accuracy: 1.0000000\n",
            "Iter:   96 | Cost: 0.0000497 | Accuracy: 1.0000000\n",
            "Iter:   97 | Cost: 0.0000263 | Accuracy: 1.0000000\n",
            "Iter:   98 | Cost: 0.0000229 | Accuracy: 1.0000000\n",
            "Iter:   99 | Cost: 0.0000339 | Accuracy: 1.0000000\n",
            "Iter:  100 | Cost: 0.0000174 | Accuracy: 1.0000000\n"
          ]
        }
      ]
    },
    {
      "cell_type": "code",
      "source": [
        "data_test = np.array([[0, 0, 0, 0, 0],\n",
        "[0, 0, 1, 1, 0],\n",
        "[1, 0, 1, 0, 0],\n",
        "[1, 1, 1, 0, 1],\n",
        "[1, 1, 0, 0, 0],\n",
        "[1, 1, 0, 1, 1]])\n",
        "X_test = np.array(data_test[:, :-1])\n",
        "Y_test = np.array(data_test[:, -1])\n",
        "Y_test = Y_test * 2 - 1  # shift label from {0, 1} to {-1, 1}\n",
        "\n",
        "predictions_test = [np.sign(variational_classifier(weights, bias, x)) for x in X_test]\n",
        "\n",
        "for x,y,p in zip(X_test, Y_test, predictions_test):\n",
        "    print(f\"x = {x}, y = {y}, pred={p}\")\n",
        "\n",
        "acc_test = accuracy(Y_test, predictions_test)\n",
        "print(\"Accuracy on unseen data:\", acc_test)"
      ],
      "metadata": {
        "colab": {
          "base_uri": "https://localhost:8080/"
        },
        "id": "yqQOJ5Rh1B4w",
        "outputId": "bb0be962-5969-4f20-9d5c-bcd3cdb26bd1"
      },
      "execution_count": null,
      "outputs": [
        {
          "output_type": "stream",
          "name": "stdout",
          "text": [
            "x = [0 0 0 0], y = -1, pred=-1.0\n",
            "x = [0 0 1 1], y = -1, pred=-1.0\n",
            "x = [1 0 1 0], y = -1, pred=-1.0\n",
            "x = [1 1 1 0], y = 1, pred=1.0\n",
            "x = [1 1 0 0], y = -1, pred=-1.0\n",
            "x = [1 1 0 1], y = 1, pred=1.0\n",
            "Accuracy on unseen data: 1.0\n"
          ]
        }
      ]
    },
    {
      "cell_type": "code",
      "source": [],
      "metadata": {
        "id": "fOE4chnW1tPj"
      },
      "execution_count": null,
      "outputs": []
    }
  ]
}