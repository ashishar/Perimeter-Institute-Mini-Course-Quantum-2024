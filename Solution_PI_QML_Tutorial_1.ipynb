{
  "nbformat": 4,
  "nbformat_minor": 0,
  "metadata": {
    "colab": {
      "provenance": [],
      "include_colab_link": true
    },
    "kernelspec": {
      "name": "python3",
      "display_name": "Python 3"
    },
    "language_info": {
      "name": "python"
    }
  },
  "cells": [
    {
      "cell_type": "markdown",
      "metadata": {
        "id": "view-in-github",
        "colab_type": "text"
      },
      "source": [
        "<a href=\"https://colab.research.google.com/github/ashishar/qbook/blob/master/Solution_PI_QML_Tutorial_1.ipynb\" target=\"_parent\"><img src=\"https://colab.research.google.com/assets/colab-badge.svg\" alt=\"Open In Colab\"/></a>"
      ]
    },
    {
      "cell_type": "markdown",
      "source": [
        "# **Quantum Machine Learning - Tutorial 1**\n",
        "# **Quantum Circuits and Optimization**"
      ],
      "metadata": {
        "id": "_s6QigGgobUU"
      }
    },
    {
      "cell_type": "markdown",
      "source": [
        "**Please do not modify this notebook. To work on the tutorial, create your own copy by going to File > Save a Copy in Drive**"
      ],
      "metadata": {
        "id": "tDvWgQt_pFdj"
      }
    },
    {
      "cell_type": "markdown",
      "source": [
        "Before doing anything, please **run the following cell to install PennyLane.**"
      ],
      "metadata": {
        "id": "47p3MAtMpho1"
      }
    },
    {
      "cell_type": "code",
      "source": [
        "%%capture\n",
        "!pip install pennylane"
      ],
      "metadata": {
        "id": "l07OiY5PppLT",
        "collapsed": true
      },
      "execution_count": null,
      "outputs": []
    },
    {
      "cell_type": "markdown",
      "source": [
        "In this tutorial we will learn how to build quantum circuits in PennyLane and use them for various optimization tasks. You do not need to solve the entire tutorial in 1.5 hours. Choose the topics that you find will benefit your learning and interests the most.\n",
        "\n",
        "First, let's import PennyLane and some other libraries. **Run the cell below.**"
      ],
      "metadata": {
        "id": "bfVXxZp9o1wi"
      }
    },
    {
      "cell_type": "code",
      "source": [
        "import pennylane as qml\n",
        "from pennylane import numpy as np\n",
        "import random"
      ],
      "metadata": {
        "id": "o6oGpRIWb1lN"
      },
      "execution_count": null,
      "outputs": []
    },
    {
      "cell_type": "markdown",
      "source": [
        "## **1. Circuit building**"
      ],
      "metadata": {
        "id": "L129C6krsKZl"
      }
    },
    {
      "cell_type": "markdown",
      "source": [
        "### **A. Wax on, wax off**\n",
        "\n",
        "Let's warm up by building some quantum circuits using PennyLane. Build the following circuits using PennyLane and return the indicated output. Don't forget to define a device and decorate your circuit to make it a QNode!"
      ],
      "metadata": {
        "id": "wlxN_4vbsVya"
      }
    },
    {
      "cell_type": "markdown",
      "source": [
        "(i) Output: Computational basis measurement probabilities on the first wire.\n",
        "\n",
        "<p align=\"center\">\n",
        "  <img width=\"50%\" src=\"https://raw.githubusercontent.com/gmlejarza/Tutorials_Perimeter/main/images/circuit_building_1.png\" />\n",
        "</p>"
      ],
      "metadata": {
        "id": "GCaVyFMMVYmm"
      }
    },
    {
      "cell_type": "code",
      "source": [
        "dev = qml.device('default.qubit', wires = [0,1])\n",
        "\n",
        "@qml.qnode(dev)\n",
        "def circuit():\n",
        "  qml.RX(np.pi/3, wires = 0)\n",
        "  qml.Hadamard(wires = 0)\n",
        "  qml.CNOT(wires = [0,1])\n",
        "  qml.Hadamard(wires = 0)\n",
        "\n",
        "  return qml.probs(wires =[0])\n",
        "\n",
        "circuit()"
      ],
      "metadata": {
        "colab": {
          "base_uri": "https://localhost:8080/"
        },
        "id": "R3WInVDg2Rp6",
        "outputId": "ace6043b-430d-4c6d-b9a4-4eee25ac1e1b"
      },
      "execution_count": null,
      "outputs": [
        {
          "output_type": "execute_result",
          "data": {
            "text/plain": [
              "tensor([0.5, 0.5], requires_grad=True)"
            ]
          },
          "metadata": {},
          "execution_count": 127
        }
      ]
    },
    {
      "cell_type": "markdown",
      "source": [
        "(ii) Output: Expectation value of the Hamiltonian $ H = 2X \\otimes X + 5 Y \\otimes Y $\n",
        "\n",
        "<p align=\"center\">\n",
        "  <img width=\"50%\" src=\"https://raw.githubusercontent.com/gmlejarza/Tutorials_Perimeter/main/images/circuit_building_2.png\" />\n",
        "</p>\n"
      ],
      "metadata": {
        "id": "F4AfCxSGV2xI"
      }
    },
    {
      "cell_type": "code",
      "source": [
        "dev = qml.device('default.qubit', wires = [0,1])\n",
        "\n",
        "coeffs = [2, 5]\n",
        "obs = [qml.PauliX(0)@qml.PauliX(1), qml.PauliY(0)@qml.PauliY(1)]\n",
        "H = qml.Hamiltonian(coeffs, obs)\n",
        "\n",
        "@qml.qnode(dev)\n",
        "def circuit():\n",
        "\n",
        "  qml.Hadamard(wires = 0)\n",
        "  qml.Hadamard(wires = 1)\n",
        "  qml.CY(wires = [0,1])\n",
        "  qml.RY(np.pi/4, wires = 0)\n",
        "\n",
        "  return qml.expval(H)\n",
        "\n",
        "circuit()"
      ],
      "metadata": {
        "colab": {
          "base_uri": "https://localhost:8080/"
        },
        "id": "SIXPGlze28zF",
        "outputId": "f873c8e9-a55e-44bf-a95b-e979ae11ff24"
      },
      "execution_count": null,
      "outputs": [
        {
          "output_type": "execute_result",
          "data": {
            "text/plain": [
              "tensor(1.41421356, requires_grad=True)"
            ]
          },
          "metadata": {},
          "execution_count": 130
        }
      ]
    },
    {
      "cell_type": "markdown",
      "source": [
        "(iii) Output: Full two-qubit quantum state at the end of the circuit\n",
        "\n",
        "<p align=\"center\">\n",
        "  <img width=\"50%\" src=\"https://raw.githubusercontent.com/gmlejarza/Tutorials_Perimeter/main/images/circuit_building_3.png\" />\n",
        "</p>"
      ],
      "metadata": {
        "id": "8yAHIuctZZNq"
      }
    },
    {
      "cell_type": "code",
      "source": [
        "dev = qml.device('default.qubit', wires = [0,1])\n",
        "\n",
        "@qml.qnode(dev)\n",
        "def circuit():\n",
        "  qml.RY(np.pi/4, wires = 0)\n",
        "  qml.RX(np.pi/6, wires = 1)\n",
        "  qml.PauliX(wires = 1)\n",
        "  qml.CRZ(np.pi/3, wires = [1,0])\n",
        "  qml.PauliX(wires = 1)\n",
        "  qml.PauliX(wires = 0)\n",
        "\n",
        "  return qml.state()\n",
        "\n",
        "circuit()"
      ],
      "metadata": {
        "colab": {
          "base_uri": "https://localhost:8080/"
        },
        "id": "CRgdmPk-3_R2",
        "outputId": "ada6c457-f124-40f9-a5a1-4fb067c897a7"
      },
      "execution_count": null,
      "outputs": [
        {
          "output_type": "execute_result",
          "data": {
            "text/plain": [
              "tensor([0.32012093+0.18482191j, 0.        -0.09904576j,\n",
              "        0.77284029-0.44619955j, 0.        -0.23911762j], requires_grad=True)"
            ]
          },
          "metadata": {},
          "execution_count": 131
        }
      ]
    },
    {
      "cell_type": "markdown",
      "source": [
        "(iv) Output: Reduced density matrix on the first two wires.\n",
        "\n",
        "<p align=\"center\">\n",
        "  <img width=\"50%\" src=\"https://raw.githubusercontent.com/gmlejarza/Tutorials_Perimeter/main/images/circuit_building_4.png\" />\n",
        "</p>"
      ],
      "metadata": {
        "id": "GUPWI52DaEZP"
      }
    },
    {
      "cell_type": "code",
      "source": [
        "dev = qml.device('default.qubit', wires = [0,1,2])\n",
        "\n",
        "@qml.qnode(dev)\n",
        "def circuit():\n",
        "  qml.RY(np.pi/4, wires = 0)\n",
        "  qml.RX(np.pi/6, wires = 1)\n",
        "  qml.Hadamard(wires = 2)\n",
        "  qml.Toffoli(wires=[2,1,0])\n",
        "  qml.CY(wires = [2,0])\n",
        "\n",
        "  return qml.density_matrix(wires = [0,1])\n",
        "\n",
        "circuit()"
      ],
      "metadata": {
        "colab": {
          "base_uri": "https://localhost:8080/"
        },
        "id": "fFWiUgQ24hDN",
        "outputId": "31936893-5513-4978-ac62-8eda445cc3b4"
      },
      "execution_count": null,
      "outputs": [
        {
          "output_type": "execute_result",
          "data": {
            "text/plain": [
              "tensor([[0.46650635+0.j        , 0.        +0.15088835j,\n",
              "         0.        +0.j        , 0.        +0.02588835j],\n",
              "        [0.        -0.15088835j, 0.05717724+0.j        ,\n",
              "         0.        +0.0625j    , 0.        +0.j        ],\n",
              "        [0.        +0.j        , 0.        -0.0625j    ,\n",
              "         0.46650635+0.j        , 0.        +0.0625j    ],\n",
              "        [0.        -0.02588835j, 0.        +0.j        ,\n",
              "         0.        -0.0625j    , 0.00981006+0.j        ]], requires_grad=True)"
            ]
          },
          "metadata": {},
          "execution_count": 132
        }
      ]
    },
    {
      "cell_type": "markdown",
      "source": [
        "### **B. Deutsch-Jozsa algorithm**\n",
        "\n",
        "**Do this exercise if you're interested in applying your circuit building skills to construct some standard quantum algorithms.**\n",
        "\n",
        "Now let's apply our circuit-building skills to implement oracle-based quantum algorithms. Let's start with Deutsch-Jozsa.\n",
        "\n",
        "Recall that the Deustch-Jozsa Algorithm tells us whether a function $f:\\{0,1\\}^n \\rightarrow \\{0,1\\}$ is constant or balanced. Here, balanced means that $|f^{-1}(0)| = |f^{-1}(1)|.$ This function is encoded in a \"black box oracle\", which is a unitary $U_f$ such that $U_f(\\vert \\mathbf{x} \\rangle) = \\vert \\mathbf{x}\\rangle$ if $f(\\mathbf{x}) = 0,$ and $U_f(\\vert \\mathbf{x} \\rangle) = -\\vert \\mathbf{x}\\rangle$ if $f(\\mathbf{x}) = 1.$\n",
        "\n",
        "You are asked to implement the Deutsch-Jozsa algorithm to determine whether the functions that a randomly generated oracle encodes are constant or balanced. Do some Google research if you don't remember/ever learned how Deutsch-Jozsa works!\n",
        "\n",
        "The following `generate_oracle` function generates the matrix of a random oracle using a seed. All oracles are assumed to be represented by $16 \\times 16$ matrices (so we're working with $n=4$ qubits). **Run the cell below.**"
      ],
      "metadata": {
        "id": "_tq8onP7aRdA"
      }
    },
    {
      "cell_type": "code",
      "source": [
        "def generate_oracle(seed):\n",
        "\n",
        "  random.seed(seed)\n",
        "  j = random.randint(0,1)\n",
        "  k = random.randint(0,1)\n",
        "  length = 8\n",
        "  array = [j] * length + [k] * length\n",
        "  random.shuffle(array)\n",
        "\n",
        "  oracle = np.identity(16)\n",
        "  for i in range(len(array)):\n",
        "    if array[i]==1:\n",
        "      oracle[i][i] = -1\n",
        "  return oracle"
      ],
      "metadata": {
        "id": "PA08obNntJjc"
      },
      "execution_count": null,
      "outputs": []
    },
    {
      "cell_type": "markdown",
      "source": [
        "Now determine whether the a given seed generates an oracle associated with constant or balanced function using the Deutsch-Jozsa Algorithm shown below. **Complete the cell below with your solution.**\n",
        "\n",
        "<p align=\"center\">\n",
        "  <img width=\"50%\" src=\"https://raw.githubusercontent.com/gmlejarza/Tutorials_Perimeter/main/images/dj.png\" />\n",
        "</p>\n",
        "\n",
        "*Hint:* Combine PennyLane's `qml.QubitUnitary` with the `generate_oracle` function defined above."
      ],
      "metadata": {
        "id": "iI1i35hz6csE"
      }
    },
    {
      "cell_type": "code",
      "source": [
        "dev = qml.device('default.qubit', wires = range(4))\n",
        "\n",
        "@qml.qnode(dev)\n",
        "def deutsch_jozsa(seed):\n",
        "\n",
        "  qml.broadcast(qml.Hadamard, wires = range(4), pattern = \"single\")\n",
        "  qml.QubitUnitary(generate_oracle(seed), wires = range(4))\n",
        "  qml.broadcast(qml.Hadamard, wires = range(4), pattern = \"single\")\n",
        "\n",
        "  return qml.probs(wires = range(4))"
      ],
      "metadata": {
        "id": "MbbCzp7z6Ipv"
      },
      "execution_count": null,
      "outputs": []
    },
    {
      "cell_type": "markdown",
      "source": [
        "### **C. Grover's algorithm**\n",
        "\n",
        "**Do this exercise if you're interested in applying your circuit building skills to construct some standard quantum algorithms.**\n",
        "\n",
        "Now let's code the famous Grover Search Algorithm! For a function $f:\\{0,1,\\ldots, N-1\\}\\rightarrow \\{0,1\\}$ Grover's algorithm determines the set $f^{-1}(1)$; that is, it finds the solutions to the equation $f(s) = 1$. In this problem, we will assume that $|f^{-1}(1)| = 1$, so that only one such solution $s$ exists.\n",
        "\n",
        "The code below uses a `seed` to generate the binary representation of a random solution $s.$ For $N=16$, your task is to use Grover's Algorithm to find the solution $s$. **Run the cell below.**"
      ],
      "metadata": {
        "id": "m-UVk6pa8uQU"
      }
    },
    {
      "cell_type": "code",
      "source": [
        "def generate_s(seed):\n",
        "\n",
        "  random.seed(seed)\n",
        "  length = 16\n",
        "  k = random.randint(0,length-1)\n",
        "  array = np.binary_repr(k, width = 4)\n",
        "\n",
        "  return np.array([float(i) for i in array])"
      ],
      "metadata": {
        "id": "wipL4iXF8oSF"
      },
      "execution_count": null,
      "outputs": []
    },
    {
      "cell_type": "markdown",
      "source": [
        "(i) First, let's build an oracle $U_f$ associated with the function $f$. The action of this oracle is $U_f\\vert \\mathbf{x}\\rangle |y\\rangle = |\\mathbf{x}\\rangle |y\\oplus f(\\mathbf{x})\\rangle.$ Here, $y$ is an auxiliary qubit. As a gate, this oracle is the 5-qubit unitary shown below,\n",
        "\n",
        "<p align=\"center\">\n",
        "  <img width=\"50%\" src=\"https://raw.githubusercontent.com/gmlejarza/Tutorials_Perimeter/main/images/oracle.png\" />\n",
        "</p>\n",
        "\n",
        "where the control values are given by the binary representation of the unique solution $s$. In the figure, it's $1001_2 = 9.$\n",
        "\n",
        "**Complete the cell below** with a subcircuit that applies this oracle as a function of the `seed`. The function `generate_f` will be super useful for you.\n",
        "\n",
        "*Hint:* Use the `qml.MultiControlledX` gate."
      ],
      "metadata": {
        "id": "xM63zhJ_fK5B"
      }
    },
    {
      "cell_type": "code",
      "source": [
        "def grover_oracle(seed):\n",
        "\n",
        "  qml.MultiControlledX(wires = range(5), control_values=generate_s(seed))"
      ],
      "metadata": {
        "id": "KrAKjMmmf2rL"
      },
      "execution_count": null,
      "outputs": []
    },
    {
      "cell_type": "markdown",
      "source": [
        "(ii) Next, let's build the diffusion operator, which is the following 5-qubit unitary.\n",
        "\n",
        "<p align=\"center\">\n",
        "  <img width=\"50%\" src=\"https://raw.githubusercontent.com/gmlejarza/Tutorials_Perimeter/main/images/diffusion.png\" />\n",
        "</p>"
      ],
      "metadata": {
        "id": "H3S2BtcM0Xva"
      }
    },
    {
      "cell_type": "code",
      "source": [
        "def diffusion():\n",
        "\n",
        "  qml.broadcast(qml.Hadamard, wires = range(4), pattern = 'single')\n",
        "  qml.MultiControlledX(wires = range(5), control_values = [0,0,0,0])\n",
        "  qml.broadcast(qml.Hadamard, wires = range(4), pattern = 'single')"
      ],
      "metadata": {
        "id": "Ah3xaHOqs_7T"
      },
      "execution_count": null,
      "outputs": []
    },
    {
      "cell_type": "markdown",
      "source": [
        "(iii) Finally, let's build the circuit for Grover search given below. What is the number of oracle-diffusion iterations needed to find the solution with maximal probability?\n",
        "\n",
        "<p align=\"center\">\n",
        "  <img width=\"50%\" src=\"https://raw.githubusercontent.com/gmlejarza/Tutorials_Perimeter/main/images/grover.png\" />\n",
        "</p>"
      ],
      "metadata": {
        "id": "A5LBXMgP1JcT"
      }
    },
    {
      "cell_type": "code",
      "source": [
        "dev = qml.device('default.qubit', wires = range(5))\n",
        "\n",
        "@qml.qnode(dev)\n",
        "def grover_circuit(seed, num_iterations):\n",
        "\n",
        "  qml.broadcast(qml.Hadamard, wires = range(4), pattern = 'single')\n",
        "  qml.PauliX(wires = 4)\n",
        "  qml.Hadamard(wires = 4)\n",
        "\n",
        "  for _ in range(num_iterations):\n",
        "    grover_oracle(seed)\n",
        "    diffusion()\n",
        "\n",
        "  return qml.probs(wires = range(4))"
      ],
      "metadata": {
        "id": "s6jwIIYuvY2s"
      },
      "execution_count": null,
      "outputs": []
    },
    {
      "cell_type": "markdown",
      "source": [
        "## **2. Circuit optimization**"
      ],
      "metadata": {
        "id": "EquFs5EytFnS"
      }
    },
    {
      "cell_type": "markdown",
      "source": [
        "### **A. Practice makes perfect**\n",
        "\n",
        "Build each of the following parametric circuits in PennyLane as QNodes, write the cost functions specified, and find their minima. For reference, the code you need to optimize cost functions using gradient descent is given below."
      ],
      "metadata": {
        "id": "1-mtlKrKtPNZ"
      }
    },
    {
      "cell_type": "code",
      "source": [
        "def optimize(cost_function, init_params, steps):\n",
        "\n",
        "  opt = qml.GradientDescentOptimizer(stepsize = 0.4) # Change this as you see fit\n",
        "\n",
        "  params = init_params\n",
        "\n",
        "  for i in range(steps):\n",
        "\n",
        "    params = opt.step(cost_function, params)\n",
        "\n",
        "  return params, cost_function(params)"
      ],
      "metadata": {
        "id": "QfOv1YUc5O5R"
      },
      "execution_count": null,
      "outputs": []
    },
    {
      "cell_type": "markdown",
      "source": [
        "(i) Cost function: Expectation value of the Pauli-Z operator on the first wire\n",
        "\n",
        "<p align=\"center\">\n",
        "  <img width=\"50%\" src=\"https://raw.githubusercontent.com/gmlejarza/Tutorials_Perimeter/main/images/optimization_1.png\" />\n",
        "</p>"
      ],
      "metadata": {
        "id": "cLANispo7Atm"
      }
    },
    {
      "cell_type": "code",
      "source": [
        "dev = qml.device('default.qubit', wires = [0,1,2])\n",
        "\n",
        "@qml.qnode(dev)\n",
        "def circuit_1(params):\n",
        "\n",
        "  qml.RX(params[0], wires = 0)\n",
        "  qml.CNOT(wires=[0,1])\n",
        "  qml.CNOT(wires = [0,2])\n",
        "  qml.RY(params[1], wires = 0)\n",
        "  qml.RY(params[2], wires = 1)\n",
        "  qml.RY(params[3], wires = 2)\n",
        "\n",
        "  return qml.expval(qml.PauliZ(0))"
      ],
      "metadata": {
        "id": "52srqpNE70oU"
      },
      "execution_count": null,
      "outputs": []
    },
    {
      "cell_type": "code",
      "source": [
        "def cost_function(params):\n",
        "  return circuit_1(params)"
      ],
      "metadata": {
        "id": "m9-ol1V7AQ-y"
      },
      "execution_count": null,
      "outputs": []
    },
    {
      "cell_type": "markdown",
      "source": [
        "Cost function: Minus the fidelity between the circuit's output state and the Bell state $\\left\\lvert \\Phi_{+} \\right\\rangle = \\frac{1}{\\sqrt{2}} \\left\\lvert 00\\right\\rangle + \\frac{1}{\\sqrt{2}}\\left\\lvert 11 \\right\\rangle.$\n",
        "\n",
        "<p align=\"center\">\n",
        "  <img width=\"30%\" src=\"https://raw.githubusercontent.com/gmlejarza/Tutorials_Perimeter/main/images/optimization_2.png\" />\n",
        "</p>"
      ],
      "metadata": {
        "id": "oKMRHAMW7mFt"
      }
    },
    {
      "cell_type": "code",
      "source": [
        "dev = qml.device('default.qubit', wires = [0,1])\n",
        "\n",
        "@qml.qnode(dev)\n",
        "def circuit_2(params):\n",
        "\n",
        "  qml.RY(params[0], wires = 0)\n",
        "  qml.CNOT(wires=[0,1])\n",
        "\n",
        "  return qml.state()"
      ],
      "metadata": {
        "id": "eRibVJff9vkj"
      },
      "execution_count": null,
      "outputs": []
    },
    {
      "cell_type": "code",
      "source": [
        "def cost_function(params):\n",
        "  return -np.abs(np.dot(circuit_2(params), np.array([1/np.sqrt(2),0,0,1/np.sqrt(2)])))"
      ],
      "metadata": {
        "id": "9a_ZCev994D9"
      },
      "execution_count": null,
      "outputs": []
    },
    {
      "cell_type": "code",
      "source": [
        "optimize(cost_function, np.array([0.], requires_grad = True),100)"
      ],
      "metadata": {
        "colab": {
          "base_uri": "https://localhost:8080/"
        },
        "id": "IolKQYyA-cIv",
        "outputId": "43145e8f-eaf2-4676-b055-8e8715a5c3ce"
      },
      "execution_count": null,
      "outputs": [
        {
          "output_type": "execute_result",
          "data": {
            "text/plain": [
              "(tensor([1.57075193], requires_grad=True), -0.9999999997535602)"
            ]
          },
          "metadata": {},
          "execution_count": 82
        }
      ]
    },
    {
      "cell_type": "markdown",
      "source": [
        "(iii) Cost function: Minus the purity of the reduced density operator representing the output in the first two wires.\n",
        "\n",
        "<p align=\"center\">\n",
        "  <img width=\"50%\" src=\"https://raw.githubusercontent.com/gmlejarza/Tutorials_Perimeter/main/images/optimization_3.png\" />\n",
        "</p>"
      ],
      "metadata": {
        "id": "e5DeuzgE8BYJ"
      }
    },
    {
      "cell_type": "code",
      "source": [
        "dev =qml.device('default.qubit', wires = [0, 1 ,2])\n",
        "\n",
        "@qml.qnode(dev)\n",
        "def circuit_3(params):\n",
        "\n",
        "  qml.Hadamard(wires = 0)\n",
        "  qml.CRX(params[0], wires = [0,1])\n",
        "  qml.CRY(params[1], wires = [1,2])\n",
        "  qml.CNOT(wires = [0,2] )\n",
        "\n",
        "  return qml.purity(wires = [0,1])\n"
      ],
      "metadata": {
        "id": "QkRuMsuBFnUZ"
      },
      "execution_count": null,
      "outputs": []
    },
    {
      "cell_type": "code",
      "source": [
        "def cost_function(params):\n",
        "  return -1*circuit_3(params)"
      ],
      "metadata": {
        "id": "UdQprMKEGeyH"
      },
      "execution_count": null,
      "outputs": []
    },
    {
      "cell_type": "code",
      "source": [
        "optimize(cost_function, np.array([1.,1.], requires_grad = True), 100)"
      ],
      "metadata": {
        "colab": {
          "base_uri": "https://localhost:8080/"
        },
        "id": "-RCaTbGZG3cN",
        "outputId": "ad0c1ff7-c320-4cdb-9102-1404beda98c8"
      },
      "execution_count": null,
      "outputs": [
        {
          "output_type": "execute_result",
          "data": {
            "text/plain": [
              "(tensor([3.1415833 , 3.13612877], requires_grad=True), -0.9999962682314241)"
            ]
          },
          "metadata": {},
          "execution_count": 97
        }
      ]
    },
    {
      "cell_type": "markdown",
      "source": [
        "### **B. Application: Distinguishing Quantum States**"
      ],
      "metadata": {
        "id": "rxyHz8Gb6X0P"
      }
    },
    {
      "cell_type": "markdown",
      "source": [
        "Suppose that you have prepared a quantum state, but you're not entirely sure which state it is. You know that you may have prepared\n",
        "\n",
        "$$ \\vert \\phi_1 \\rangle = \\cos(\\theta_1)\\vert 0 \\rangle + \\sin(\\theta_1)\\vert 1 \\rangle \\quad \\mathrm{with \\ probability\\ } p_1,$$\n",
        "$$ \\vert \\phi_2 \\rangle = \\cos(\\theta_2)\\vert 0 \\rangle + \\sin(\\theta_2)\\vert 1 \\rangle \\quad \\mathrm{with \\ probability\\ } p_2,$$\n",
        "\n",
        "where $\\theta_1$ ande $\\theta_2$ are given. You are asked to devise an optimal strategy that will correctly identify the state with the highest probability possible. In this context, this means that you must maximize the average case success probability\n",
        "\n",
        "$$ p_{success} = p_1\\times q_1 + p_2\\times q_2,$$\n",
        "\n",
        "where $q_i = Prob(\\text{state identified as } \\vert \\phi_i\\rangle \\vert \\text{state was actually} \\vert \\phi_i\\rangle).$ This maximum depends on the values of $\\theta_1$ and $\\theta_2.$\n",
        "\n",
        "(Of course, you may compute this directly using the Holevo-Helstrom theorem, but try to use an optimization routine instead!)"
      ],
      "metadata": {
        "id": "d_0uUcrNHbeX"
      }
    },
    {
      "cell_type": "code",
      "source": [
        "dev = qml.device('default.qubit', wires = 1)\n",
        "\n",
        "@qml.qnode(dev)\n",
        "def max_prob(theta, angle):\n",
        "\n",
        "    qml.QubitStateVector([np.cos(theta), np.sin(theta)], wires = 0)\n",
        "\n",
        "    qml.RY(angle, wires = 0)\n",
        "\n",
        "    return qml.probs(wires = 0)\n",
        "\n",
        "theta_1 = 0.0\n",
        "theta_2 = 0.7853981633974483\n",
        "p_1 = 0.25\n",
        "p_2 = 0.75\n",
        "\n",
        "def cost(angle):\n",
        "\n",
        "    return 1-p_1*max_prob(theta_1, angle)[0]-p_2*max_prob(theta_2,angle)[1]"
      ],
      "metadata": {
        "id": "RRl-fq0sK1SM"
      },
      "execution_count": null,
      "outputs": []
    },
    {
      "cell_type": "code",
      "source": [
        "1-optimize(cost, np.array(0.0, requires_grad = True), 500)[1]"
      ],
      "metadata": {
        "colab": {
          "base_uri": "https://localhost:8080/"
        },
        "id": "08ghx_IAba43",
        "outputId": "5886ecf2-db26-40e9-f736-60ded964a081"
      },
      "execution_count": null,
      "outputs": [
        {
          "output_type": "execute_result",
          "data": {
            "text/plain": [
              "tensor(0.89528471, requires_grad=True)"
            ]
          },
          "metadata": {},
          "execution_count": 105
        }
      ]
    },
    {
      "cell_type": "markdown",
      "source": [
        "### **C. Application: The CHSH game**"
      ],
      "metadata": {
        "id": "hVOJklrz7A4x"
      }
    },
    {
      "cell_type": "markdown",
      "source": [
        "The CHSH game provides an example of a quantum strategy that increases the probability of winning over any possible classical protocol. The game is collaborative between two parties, Alice and Bob, who are given two random bits $x$ and $y$, where $x$ is known by Alice and $y$ is known by Bob. Alice and Bob will additionally select two values, $a$ and $b$, which can be 0 or 1, and will win if\n",
        "\n",
        "$$x\\cdot y = a\\oplus b, $$\n",
        "\n",
        "where $\\oplus$ represents addition modulo 2. Since the probability of $x\\cdot y=0$  is 75%, the best classical strategy is that both of them previously agree on choosing either $a,b = 0,0$ or $1,1$, ignoring the bits they received.  \n",
        "\n",
        "Can Alice and Bob do better if we provide them with an entangled pair of qubits? Let's consider the following quantum strategy. Alice and Bob are provided with the Bell pair\n",
        "\n",
        "$$\\left\\lvert \\Phi_{+} \\right\\rangle = \\frac{1}{\\sqrt{2}} \\left\\lvert 00\\right\\rangle + \\frac{1}{\\sqrt{2}}\\left\\lvert 11 \\right\\rangle.$$\n",
        "\n",
        "With this state given to them, Alice and Bob devise a way to win the game by making conditional measurements in different bases.\n",
        "\n",
        "Alice and Bob *separately* choose a measurement basis $\\left\\lbrace \\left\\lvert \\nu_0(\\theta) \\right\\rangle, \\left\\lvert \\nu_1(\\theta) \\right\\rangle\\right\\rbrace$, where\n",
        "\n",
        "$$ \\left\\lvert \\nu_0(\\theta) \\right\\rangle = \\cos(\\theta)\\left\\lvert 0 \\right\\rangle +  \\sin(\\theta)\\left\\lvert 1 \\right\\rangle$$\n",
        "and\n",
        "$$ \\left\\lvert \\nu_1(\\theta) \\right\\rangle = -\\sin(\\theta)\\left\\lvert 0 \\right\\rangle + \\cos(\\theta)\\left\\lvert 1 \\right\\rangle. $$\n",
        "\n",
        "For her basis, Alice chooses $\\theta = \\theta_{A0}$ if she receives $x=0$, and $\\theta = \\theta_{A1}$ if she receives $x=1$. Similarly, Bob will choose $\\theta = \\theta_{B0}$ if $y=0$ and $\\theta = \\theta_{B1}$ if $y=1$. Having chosen their angles that define their respective measurement bases, they measure $| \\psi \\rangle$! If Alice's measurement result corresponds to $\\nu_0$ ($\\nu_1$), she chooses $a = 0$ ($1$). Bob's choice is made in a similar fashion.\n",
        "\n",
        "Your task is to build the quantum circuit that implements the measurements in the bases above and provide a set of angles that Alice and Bob should choose to maximize their probability of winning. Is the probability of winning is larger than in the classical setup?"
      ],
      "metadata": {
        "id": "guMWZKuWd8Jl"
      }
    },
    {
      "cell_type": "markdown",
      "source": [
        "(i) First, let's build a circuit that prepares the Bell Pair. **Complete the circuit below.**"
      ],
      "metadata": {
        "id": "Brfk7ip4qntv"
      }
    },
    {
      "cell_type": "code",
      "source": [
        "def prepare_entangled():\n",
        "\n",
        "  qml.Hadamard(wires = 0)\n",
        "  qml.CNOT(wires=[0, 1])\n"
      ],
      "metadata": {
        "id": "ccKOhDouqVsj"
      },
      "execution_count": null,
      "outputs": []
    },
    {
      "cell_type": "markdown",
      "source": [
        "(ii) Now, complete the QNode `chsh_circuit` where Alice and Bob independently choose a measurement basis according to the results of their bits. Here `bit1` is the bit that Alice receives and `bit2` is the one that Bob receives. The measurement basis angles are enconded in the argument `params`, an array of the form $[\\theta_{A0}, \\theta_{A1}, \\theta_{B0}, \\theta_{B1}]$."
      ],
      "metadata": {
        "id": "4CPWp3XgtcZn"
      }
    },
    {
      "cell_type": "code",
      "source": [
        "dev = qml.device('default.qubit', wires = [0,1])\n",
        "\n",
        "@qml.qnode(dev)\n",
        "def chsh_circuit(params, bit1, bit2):\n",
        "\n",
        "  prepare_entangled()\n",
        "\n",
        "  if bit1 == 0:\n",
        "      qml.RY(2 * params[0], wires=0)\n",
        "      if bit2 == 0:\n",
        "          qml.RY(2 * params[2], wires=1)\n",
        "      else:\n",
        "          qml.RY(2 * params[3], wires=1)\n",
        "  else:\n",
        "      qml.RY(2 * params[1], wires=0)\n",
        "      if bit2 == 0:\n",
        "          qml.RY(2 * params[2], wires=1)\n",
        "      else:\n",
        "          qml.RY(2 * params[3], wires=1)\n",
        "\n",
        "  return qml.probs(wires=[0, 1])"
      ],
      "metadata": {
        "id": "z9xEH9mysNSL"
      },
      "execution_count": null,
      "outputs": []
    },
    {
      "cell_type": "markdown",
      "source": [
        "(iii) Our cost function should be the probability that Alice and Bob win given their choice of basis. Define the function `winning_prob` that calculates the probability of winning given a choice of basis. Once again, the angles determining the basis are encoded in an array `params` of the form $[\\theta_{A0}, \\theta_{A1}, \\theta_{B0}, \\theta_{B1}]$."
      ],
      "metadata": {
        "id": "suwX_2GqvGKc"
      }
    },
    {
      "cell_type": "code",
      "source": [
        "def winning_prob(params):\n",
        "    prob00 = (\n",
        "        chsh_circuit(params, 0, 0)[0]\n",
        "        + chsh_circuit(params, 0, 0)[3]\n",
        "    )\n",
        "    prob01 = (\n",
        "        chsh_circuit(params, 0, 1)[0]\n",
        "        + chsh_circuit(params, 0, 1)[3]\n",
        "    )\n",
        "    prob10 = (\n",
        "        chsh_circuit(params, 1, 0)[0]\n",
        "        + chsh_circuit(params, 1, 0)[3]\n",
        "    )\n",
        "    prob11 = (\n",
        "        chsh_circuit(params, 1, 1)[1]\n",
        "        + chsh_circuit(params, 1, 1)[2]\n",
        "    )\n",
        "    return 1 / 4 * (prob00 + prob01 + prob10 + prob11)"
      ],
      "metadata": {
        "id": "NAR9-rY_urlP"
      },
      "execution_count": null,
      "outputs": []
    },
    {
      "cell_type": "markdown",
      "source": [
        "(iv) Using the `winning_prob` function, define a cost function that we need to minimize."
      ],
      "metadata": {
        "id": "_aEgfG2iyUdd"
      }
    },
    {
      "cell_type": "code",
      "source": [
        "def cost(params):\n",
        "    return 1 - winning_prob(params)"
      ],
      "metadata": {
        "id": "dSNoUwG4xS59"
      },
      "execution_count": null,
      "outputs": []
    },
    {
      "cell_type": "markdown",
      "source": [
        "(v) Finally, optimize the `cost` function."
      ],
      "metadata": {
        "id": "bw9GtA1CzDAg"
      }
    },
    {
      "cell_type": "code",
      "source": [
        "optimize(cost, np.array([0.0, 0.3, 0.0, -0.5], requires_grad = True), 100 )"
      ],
      "metadata": {
        "colab": {
          "base_uri": "https://localhost:8080/"
        },
        "id": "D_WM27m-y9HG",
        "outputId": "9d499449-4972-4ef6-deb6-bf660e51993a"
      },
      "execution_count": null,
      "outputs": [
        {
          "output_type": "execute_result",
          "data": {
            "text/plain": [
              "(tensor([-0.24634954,  0.53904862,  0.14634954, -0.63904862], requires_grad=True),\n",
              " tensor(0.14644661, requires_grad=True))"
            ]
          },
          "metadata": {},
          "execution_count": 122
        }
      ]
    }
  ]
}