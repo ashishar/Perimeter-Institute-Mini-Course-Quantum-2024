{
  "nbformat": 4,
  "nbformat_minor": 0,
  "metadata": {
    "colab": {
      "provenance": [],
      "include_colab_link": true
    },
    "kernelspec": {
      "name": "python3",
      "display_name": "Python 3"
    },
    "language_info": {
      "name": "python"
    }
  },
  "cells": [
    {
      "cell_type": "markdown",
      "metadata": {
        "id": "view-in-github",
        "colab_type": "text"
      },
      "source": [
        "<a href=\"https://colab.research.google.com/github/ashishar/Perimeter-Institute-Mini-Course-Quantum-2024/blob/master/Variational_Algorithms.ipynb\" target=\"_parent\"><img src=\"https://colab.research.google.com/assets/colab-badge.svg\" alt=\"Open In Colab\"/></a>"
      ]
    },
    {
      "cell_type": "code",
      "execution_count": null,
      "metadata": {
        "id": "rUhN4bXKgdDh"
      },
      "outputs": [],
      "source": [
        "%%capture\n",
        "!pip install pennylane"
      ]
    },
    {
      "cell_type": "code",
      "source": [
        "import pennylane as qml\n",
        "from pennylane import numpy as np\n",
        "from pennylane import qchem"
      ],
      "metadata": {
        "id": "3O0jLlSTmPxV"
      },
      "execution_count": null,
      "outputs": []
    },
    {
      "cell_type": "markdown",
      "source": [
        "#Variational Quantum Eigensolver"
      ],
      "metadata": {
        "id": "BJ1NBTi8_wSz"
      }
    },
    {
      "cell_type": "markdown",
      "source": [
        "Import the molecule and coordintates (experimentally measured)"
      ],
      "metadata": {
        "id": "-ElxdSR68Vi9"
      }
    },
    {
      "cell_type": "code",
      "source": [
        "symbols = [\"H\", \"H\"]\n",
        "coordinates = np.array([[0,0, -0.6614], [0,0,0.6614]])"
      ],
      "metadata": {
        "id": "xsq7PkcWmZ9a"
      },
      "execution_count": null,
      "outputs": []
    },
    {
      "cell_type": "markdown",
      "source": [
        "Build the Hamiltonian `H` and obtain the number of `qubits`."
      ],
      "metadata": {
        "id": "e_F7mTUZ9Koe"
      }
    },
    {
      "cell_type": "code",
      "source": [
        "H, qubits = qchem.molecular_hamiltonian(symbols, coordinates)"
      ],
      "metadata": {
        "id": "CV7iRuPanb6u"
      },
      "execution_count": null,
      "outputs": []
    },
    {
      "cell_type": "code",
      "source": [
        "print(H)"
      ],
      "metadata": {
        "colab": {
          "base_uri": "https://localhost:8080/"
        },
        "id": "y3G8EZvMnuN1",
        "outputId": "6ac6ad9d-086e-452d-9b94-8952869c2db5"
      },
      "execution_count": null,
      "outputs": [
        {
          "output_type": "stream",
          "name": "stdout",
          "text": [
            "-0.042072551947439224 * I(0) + 0.1777135822909176 * Z(0) + -0.2427450126094144 * Z(2) + 0.12293330449299361 * (Z(0) @ Z(2)) + 0.1777135822909176 * Z(1) + 0.17059759276836803 * (Z(0) @ Z(1)) + 0.044750084063019925 * (Y(0) @ X(1) @ X(2) @ Y(3)) + -0.044750084063019925 * (Y(0) @ Y(1) @ X(2) @ X(3)) + -0.044750084063019925 * (X(0) @ X(1) @ Y(2) @ Y(3)) + 0.044750084063019925 * (X(0) @ Y(1) @ Y(2) @ X(3)) + -0.2427450126094144 * Z(3) + 0.16768338855601356 * (Z(0) @ Z(3)) + 0.12293330449299361 * (Z(1) @ Z(3)) + 0.16768338855601356 * (Z(1) @ Z(2)) + 0.1762766139418181 * (Z(2) @ Z(3))\n"
          ]
        }
      ]
    },
    {
      "cell_type": "code",
      "source": [
        "qubits"
      ],
      "metadata": {
        "colab": {
          "base_uri": "https://localhost:8080/"
        },
        "id": "nmbgCWp7oBmW",
        "outputId": "a78be3cc-a560-4310-9ca5-283852c9b48e"
      },
      "execution_count": null,
      "outputs": [
        {
          "output_type": "execute_result",
          "data": {
            "text/plain": [
              "4"
            ]
          },
          "metadata": {},
          "execution_count": 9
        }
      ]
    },
    {
      "cell_type": "markdown",
      "source": [
        "Ground state"
      ],
      "metadata": {
        "id": "N1kcDmVU9Snd"
      }
    },
    {
      "cell_type": "code",
      "source": [
        "electrons = 2\n",
        "hf = qml.qchem.hf_state(electrons, qubits)\n",
        "hf"
      ],
      "metadata": {
        "colab": {
          "base_uri": "https://localhost:8080/"
        },
        "id": "0bo25IacnvOJ",
        "outputId": "f9672a58-5843-431a-e7bb-686fdd5b7a26"
      },
      "execution_count": null,
      "outputs": [
        {
          "output_type": "execute_result",
          "data": {
            "text/plain": [
              "array([1, 1, 0, 0])"
            ]
          },
          "metadata": {},
          "execution_count": 10
        }
      ]
    },
    {
      "cell_type": "markdown",
      "source": [
        "Define VQE circuit"
      ],
      "metadata": {
        "id": "UwXOMO1y-QT_"
      }
    },
    {
      "cell_type": "code",
      "source": [
        "def vqe_circuit(param):\n",
        "\n",
        "  qml.BasisState(hf, wires = range(4))\n",
        "  qml.DoubleExcitation(param, wires = range(4))\n"
      ],
      "metadata": {
        "id": "_dIkhz-RoG0G"
      },
      "execution_count": null,
      "outputs": []
    },
    {
      "cell_type": "markdown",
      "source": [
        "Return Expectation value"
      ],
      "metadata": {
        "id": "WNJf_91C-UdI"
      }
    },
    {
      "cell_type": "code",
      "source": [
        "dev = qml.device('default.qubit', wires = qubits)\n",
        "\n",
        "@qml.qnode(dev)\n",
        "def vqe_expval(param):\n",
        "\n",
        "  vqe_circuit(param)\n",
        "\n",
        "  return qml.expval(H)"
      ],
      "metadata": {
        "id": "OtN74bEbrLJs"
      },
      "execution_count": null,
      "outputs": []
    },
    {
      "cell_type": "markdown",
      "source": [
        "Run optimize routine"
      ],
      "metadata": {
        "id": "rBAkjGmh-X3D"
      }
    },
    {
      "cell_type": "code",
      "source": [
        "def optimize(cost_function, init_params, steps):\n",
        "\n",
        "  opt = qml.GradientDescentOptimizer(stepsize = 0.4) # Change this as you see fit\n",
        "\n",
        "  params = init_params\n",
        "\n",
        "  for i in range(steps):\n",
        "\n",
        "    params = opt.step(cost_function, params)\n",
        "\n",
        "  return params, cost_function(params)"
      ],
      "metadata": {
        "id": "Aq17fO_crovQ"
      },
      "execution_count": null,
      "outputs": []
    },
    {
      "cell_type": "code",
      "source": [
        "theta = np.array(0.0, requires_grad = True)"
      ],
      "metadata": {
        "id": "676T6AZ2r7u8"
      },
      "execution_count": null,
      "outputs": []
    },
    {
      "cell_type": "code",
      "source": [
        "optimize(vqe_expval, theta, 100)"
      ],
      "metadata": {
        "colab": {
          "base_uri": "https://localhost:8080/"
        },
        "id": "5GXMs_vXrrIv",
        "outputId": "7fb49035-3ad3-4cb1-9475-8addf0bdf840"
      },
      "execution_count": null,
      "outputs": [
        {
          "output_type": "execute_result",
          "data": {
            "text/plain": [
              "(tensor(0.20973289, requires_grad=True),\n",
              " tensor(-1.13618916, requires_grad=True))"
            ]
          },
          "metadata": {},
          "execution_count": 16
        }
      ]
    },
    {
      "cell_type": "markdown",
      "source": [
        "Read ground state"
      ],
      "metadata": {
        "id": "ll4OOXv--kd4"
      }
    },
    {
      "cell_type": "code",
      "source": [
        "dev = qml.device('default.qubit', wires = qubits)\n",
        "\n",
        "@qml.qnode(dev)\n",
        "def vqe_state(param):\n",
        "\n",
        "  vqe_circuit(param)\n",
        "\n",
        "  return qml.state()"
      ],
      "metadata": {
        "id": "qCUhk_LNsEjR"
      },
      "execution_count": null,
      "outputs": []
    },
    {
      "cell_type": "code",
      "source": [
        "vqe_state(0.20973289)"
      ],
      "metadata": {
        "colab": {
          "base_uri": "https://localhost:8080/"
        },
        "id": "vchATPD1sPu8",
        "outputId": "6572ae5e-d671-4d06-cdd7-06a9a997501a"
      },
      "execution_count": null,
      "outputs": [
        {
          "output_type": "execute_result",
          "data": {
            "text/plain": [
              "tensor([ 0.        +0.j,  0.        +0.j,  0.        +0.j,\n",
              "        -0.10467435+0.j,  0.        +0.j,  0.        +0.j,\n",
              "         0.        +0.j,  0.        +0.j,  0.        +0.j,\n",
              "         0.        +0.j,  0.        +0.j,  0.        +0.j,\n",
              "         0.99450655+0.j,  0.        +0.j,  0.        +0.j,\n",
              "         0.        +0.j], requires_grad=True)"
            ]
          },
          "metadata": {},
          "execution_count": 19
        }
      ]
    },
    {
      "cell_type": "markdown",
      "source": [
        "# Quantum Approximate Optimization Algorithm"
      ],
      "metadata": {
        "id": "h9cBeS-7-odW"
      }
    },
    {
      "cell_type": "markdown",
      "source": [
        "Define edges from graph"
      ],
      "metadata": {
        "id": "xH3oP1xT-ucz"
      }
    },
    {
      "cell_type": "code",
      "source": [
        "edges = [(0,1),(0,2),(1,3),(1,2),(2,4),(3,4)]"
      ],
      "metadata": {
        "id": "GIevGac-sTc_"
      },
      "execution_count": null,
      "outputs": []
    },
    {
      "cell_type": "markdown",
      "source": [
        "Define cost and mixer Hamiltonians"
      ],
      "metadata": {
        "id": "Xsmz8BzA-x5t"
      }
    },
    {
      "cell_type": "code",
      "source": [
        "cost_ham= 0*qml.Identity(0)\n",
        "\n",
        "for elem in edges:\n",
        "  cost_ham = cost_ham - 0.5*qml.Identity(0)\n",
        "  cost_ham = cost_ham + 0.5*qml.PauliZ(elem[0])@qml.PauliZ(elem[1])\n",
        "\n",
        "cost_ham"
      ],
      "metadata": {
        "colab": {
          "base_uri": "https://localhost:8080/"
        },
        "id": "akbfm4g9xrap",
        "outputId": "450b483a-569d-4b32-a9a9-804191097210"
      },
      "execution_count": null,
      "outputs": [
        {
          "output_type": "execute_result",
          "data": {
            "text/plain": [
              "(\n",
              "    0 * I(0)\n",
              "  + -0.5 * I(0)\n",
              "  + (0.5 * Z(0)) @ Z(1)\n",
              "  + -0.5 * I(0)\n",
              "  + (0.5 * Z(0)) @ Z(2)\n",
              "  + -0.5 * I(0)\n",
              "  + (0.5 * Z(1)) @ Z(3)\n",
              "  + -0.5 * I(0)\n",
              "  + (0.5 * Z(1)) @ Z(2)\n",
              "  + -0.5 * I(0)\n",
              "  + (0.5 * Z(2)) @ Z(4)\n",
              "  + -0.5 * I(0)\n",
              "  + (0.5 * Z(3)) @ Z(4)\n",
              ")"
            ]
          },
          "metadata": {},
          "execution_count": 23
        }
      ]
    },
    {
      "cell_type": "code",
      "source": [
        "mixer_ham = np.sum(qml.PauliX(wires = i) for i in range(5))"
      ],
      "metadata": {
        "id": "3A6DO6xKyAjE"
      },
      "execution_count": null,
      "outputs": []
    },
    {
      "cell_type": "markdown",
      "source": [
        "QAOA circuit"
      ],
      "metadata": {
        "id": "_T5fe5KN_KM_"
      }
    },
    {
      "cell_type": "code",
      "source": [
        "dev = qml.device('default.qubit', wires = 5)\n",
        "\n",
        "@qml.qnode(dev)\n",
        "def qaoa_circuit(params):\n",
        "\n",
        "  qml.broadcast(qml.Hadamard, wires = range(5), pattern = 'single')\n",
        "\n",
        "  for i in range(len(params)):\n",
        "    qml.evolve(cost_ham, coeff = params[0][i])\n",
        "    qml.evolve(mixer_ham, coeff = params[1][i])\n",
        "\n",
        "  return qml.expval(cost_ham)"
      ],
      "metadata": {
        "id": "YaHaZ40lyQrO"
      },
      "execution_count": null,
      "outputs": []
    },
    {
      "cell_type": "markdown",
      "source": [
        "Cost function and optimization\n"
      ],
      "metadata": {
        "id": "8tA2fb3R_Q9V"
      }
    },
    {
      "cell_type": "code",
      "source": [
        "def cost(params):\n",
        "\n",
        "  return qaoa_circuit(params)"
      ],
      "metadata": {
        "id": "R-s5HdLWyYg3"
      },
      "execution_count": null,
      "outputs": []
    },
    {
      "cell_type": "code",
      "source": [
        "def optimize(cost_function, init_params, steps):\n",
        "\n",
        "  opt = qml.GradientDescentOptimizer(stepsize=0.1) # Change this as you see fit\n",
        "\n",
        "  params = init_params\n",
        "\n",
        "  for i in range(steps):\n",
        "\n",
        "    params = opt.step(cost_function, params)\n",
        "\n",
        "  return params, cost_function(params)"
      ],
      "metadata": {
        "id": "L-jFoLH9_TAj"
      },
      "execution_count": null,
      "outputs": []
    },
    {
      "cell_type": "code",
      "source": [
        " opt_params, opt_cost = optimize(cost, np.array([[0.5,0.5],[0.5,0.5]], requires_grad = True) , 120)"
      ],
      "metadata": {
        "id": "aq-A_nx4_cut"
      },
      "execution_count": null,
      "outputs": []
    },
    {
      "cell_type": "markdown",
      "source": [
        "Compute and plot probabilities"
      ],
      "metadata": {
        "id": "sWqHh394_kdF"
      }
    },
    {
      "cell_type": "code",
      "source": [
        "@qml.qnode(dev)\n",
        "def qaoa_probs(params):\n",
        "\n",
        "  qml.broadcast(qml.Hadamard, wires = range(5), pattern = 'single')\n",
        "\n",
        "  for i in range(len(params)):\n",
        "    qml.evolve(cost_ham, coeff = params[0][i])\n",
        "    qml.evolve(mixer_ham, coeff = params[1][i])\n",
        "\n",
        "  return qml.probs(wires = range(5))\n",
        "\n",
        "probs = qaoa_probs(opt_params)"
      ],
      "metadata": {
        "id": "il27YNVF_eTj"
      },
      "execution_count": null,
      "outputs": []
    },
    {
      "cell_type": "code",
      "source": [
        "from matplotlib import pyplot as plt\n",
        "plt.style.use(\"seaborn\")\n",
        "plt.bar(range(2 ** 5), probs)\n",
        "plt.show()"
      ],
      "metadata": {
        "colab": {
          "base_uri": "https://localhost:8080/",
          "height": 539
        },
        "id": "TZOIFhNO_hDw",
        "outputId": "04d3faf4-03ad-4a6d-d9d8-3c445425b541"
      },
      "execution_count": null,
      "outputs": [
        {
          "output_type": "stream",
          "name": "stderr",
          "text": [
            "<ipython-input-33-6f6f4133b234>:2: MatplotlibDeprecationWarning: The seaborn styles shipped by Matplotlib are deprecated since 3.6, as they no longer correspond to the styles shipped by seaborn. However, they will remain available as 'seaborn-v0_8-<style>'. Alternatively, directly use the seaborn API instead.\n",
            "  plt.style.use(\"seaborn\")\n"
          ]
        },
        {
          "output_type": "display_data",
          "data": {
            "text/plain": [
              "<Figure size 800x550 with 1 Axes>"
            ],
            "image/png": "[encoded data removed]"
          },
          "metadata": {}
        }
      ]
    },
    {
      "cell_type": "code",
      "source": [],
      "metadata": {
        "id": "MNn-xvuz_pNk"
      },
      "execution_count": null,
      "outputs": []
    }
  ]
}